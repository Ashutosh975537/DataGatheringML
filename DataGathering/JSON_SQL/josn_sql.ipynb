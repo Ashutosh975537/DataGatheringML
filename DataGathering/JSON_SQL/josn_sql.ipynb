{
 "cells": [
  {
   "cell_type": "code",
   "execution_count": 2,
   "id": "ccfb08cd-6d37-44e0-b0d9-e007009e0d3e",
   "metadata": {},
   "outputs": [],
   "source": [
    "import pandas as pd ;"
   ]
  },
  {
   "cell_type": "markdown",
   "id": "5e59fa98-a2ca-4487-8d42-64dcde5c595e",
   "metadata": {},
   "source": [
    "# working with json locally\n"
   ]
  },
  {
   "cell_type": "code",
   "execution_count": 4,
   "id": "e6c733f4-f70f-4f59-9ebe-c9c730170319",
   "metadata": {},
   "outputs": [
    {
     "name": "stdout",
     "output_type": "stream",
     "text": [
      "          id      cuisine                                        ingredients\n",
      "0      10259        greek  [romaine lettuce, black olives, grape tomatoes...\n",
      "1      25693  southern_us  [plain flour, ground pepper, salt, tomatoes, g...\n",
      "2      20130     filipino  [eggs, pepper, salt, mayonaise, cooking oil, g...\n",
      "3      22213       indian                [water, vegetable oil, wheat, salt]\n",
      "4      13162       indian  [black pepper, shallots, cornflour, cayenne pe...\n",
      "...      ...          ...                                                ...\n",
      "39769  29109        irish  [light brown sugar, granulated sugar, butter, ...\n",
      "39770  11462      italian  [KRAFT Zesty Italian Dressing, purple onion, b...\n",
      "39771   2238        irish  [eggs, citrus fruit, raisins, sourdough starte...\n",
      "39772  41882      chinese  [boneless chicken skinless thigh, minced garli...\n",
      "39773   2362      mexican  [green chile, jalapeno chilies, onions, ground...\n",
      "\n",
      "[39774 rows x 3 columns]\n"
     ]
    }
   ],
   "source": [
    "df = pd.read_json('train.json') ;\n",
    "print(df);"
   ]
  },
  {
   "cell_type": "markdown",
   "id": "2eb942c3-449d-4cbc-8c01-c2575205c3d1",
   "metadata": {},
   "source": [
    "# reading Json from an url\n"
   ]
  },
  {
   "cell_type": "code",
   "execution_count": 7,
   "id": "fc0a44e6-9945-48b2-90b6-40d4ff85d4f3",
   "metadata": {},
   "outputs": [
    {
     "name": "stdout",
     "output_type": "stream",
     "text": [
      "                             provider  \\\n",
      "INR  https://www.exchangerate-api.com   \n",
      "AED  https://www.exchangerate-api.com   \n",
      "AFN  https://www.exchangerate-api.com   \n",
      "ALL  https://www.exchangerate-api.com   \n",
      "AMD  https://www.exchangerate-api.com   \n",
      "..                                ...   \n",
      "XPF  https://www.exchangerate-api.com   \n",
      "YER  https://www.exchangerate-api.com   \n",
      "ZAR  https://www.exchangerate-api.com   \n",
      "ZMW  https://www.exchangerate-api.com   \n",
      "ZWL  https://www.exchangerate-api.com   \n",
      "\n",
      "                          WARNING_UPGRADE_TO_V6  \\\n",
      "INR  https://www.exchangerate-api.com/docs/free   \n",
      "AED  https://www.exchangerate-api.com/docs/free   \n",
      "AFN  https://www.exchangerate-api.com/docs/free   \n",
      "ALL  https://www.exchangerate-api.com/docs/free   \n",
      "AMD  https://www.exchangerate-api.com/docs/free   \n",
      "..                                          ...   \n",
      "XPF  https://www.exchangerate-api.com/docs/free   \n",
      "YER  https://www.exchangerate-api.com/docs/free   \n",
      "ZAR  https://www.exchangerate-api.com/docs/free   \n",
      "ZMW  https://www.exchangerate-api.com/docs/free   \n",
      "ZWL  https://www.exchangerate-api.com/docs/free   \n",
      "\n",
      "                                      terms base       date  \\\n",
      "INR  https://www.exchangerate-api.com/terms  INR 2025-02-19   \n",
      "AED  https://www.exchangerate-api.com/terms  INR 2025-02-19   \n",
      "AFN  https://www.exchangerate-api.com/terms  INR 2025-02-19   \n",
      "ALL  https://www.exchangerate-api.com/terms  INR 2025-02-19   \n",
      "AMD  https://www.exchangerate-api.com/terms  INR 2025-02-19   \n",
      "..                                      ...  ...        ...   \n",
      "XPF  https://www.exchangerate-api.com/terms  INR 2025-02-19   \n",
      "YER  https://www.exchangerate-api.com/terms  INR 2025-02-19   \n",
      "ZAR  https://www.exchangerate-api.com/terms  INR 2025-02-19   \n",
      "ZMW  https://www.exchangerate-api.com/terms  INR 2025-02-19   \n",
      "ZWL  https://www.exchangerate-api.com/terms  INR 2025-02-19   \n",
      "\n",
      "     time_last_updated   rates  \n",
      "INR         1739923201  1.0000  \n",
      "AED         1739923201  0.0422  \n",
      "AFN         1739923201  0.8470  \n",
      "ALL         1739923201  1.0900  \n",
      "AMD         1739923201  4.5600  \n",
      "..                 ...     ...  \n",
      "XPF         1739923201  1.3100  \n",
      "YER         1739923201  2.8500  \n",
      "ZAR         1739923201  0.2120  \n",
      "ZMW         1739923201  0.3230  \n",
      "ZWL         1739923201  0.3040  \n",
      "\n",
      "[162 rows x 7 columns]\n"
     ]
    }
   ],
   "source": [
    "df = pd.read_json('https://api.exchangerate-api.com/v4/latest/INR');\n",
    "print(df);"
   ]
  },
  {
   "cell_type": "markdown",
   "id": "3770d267-6c8f-4c97-9b4a-eeff43dc6eb5",
   "metadata": {},
   "source": [
    "# working with SQL"
   ]
  },
  {
   "cell_type": "code",
   "execution_count": 2,
   "id": "1b95aabd-2504-4c45-9fb2-351c527b9bd2",
   "metadata": {},
   "outputs": [],
   "source": [
    "# for it we need to connect sql with python the work of this library is to establish connection between sql and library"
   ]
  },
  {
   "cell_type": "code",
   "execution_count": 4,
   "id": "8d8ebb76-b24a-48cb-b298-bb4bbeda186d",
   "metadata": {},
   "outputs": [
    {
     "name": "stdout",
     "output_type": "stream",
     "text": [
      "Collecting mysql.connector\n",
      "  Downloading mysql-connector-2.2.9.tar.gz (11.9 MB)\n",
      "     ---------------------------------------- 0.0/11.9 MB ? eta -:--:--\n",
      "     -- ------------------------------------- 0.8/11.9 MB 8.5 MB/s eta 0:00:02\n",
      "     --------- ------------------------------ 2.9/11.9 MB 9.3 MB/s eta 0:00:01\n",
      "     ---------------- ----------------------- 5.0/11.9 MB 9.2 MB/s eta 0:00:01\n",
      "     ----------------------- ---------------- 6.8/11.9 MB 9.3 MB/s eta 0:00:01\n",
      "     ------------------------------ --------- 8.9/11.9 MB 9.4 MB/s eta 0:00:01\n",
      "     ------------------------------------ --- 10.7/11.9 MB 9.3 MB/s eta 0:00:01\n",
      "     ---------------------------------------- 11.9/11.9 MB 9.2 MB/s eta 0:00:00\n",
      "  Preparing metadata (setup.py): started\n",
      "  Preparing metadata (setup.py): finished with status 'done'\n",
      "Building wheels for collected packages: mysql.connector\n",
      "  Building wheel for mysql.connector (setup.py): started\n",
      "  Building wheel for mysql.connector (setup.py): finished with status 'done'\n",
      "  Created wheel for mysql.connector: filename=mysql_connector-2.2.9-cp312-cp312-win_amd64.whl size=247959 sha256=632d660e9aaa073cd6b70676f2ef7cb4f3b79beb4244b8975a002ee20075e7af\n",
      "  Stored in directory: c:\\users\\ashut\\appdata\\local\\pip\\cache\\wheels\\03\\17\\fa\\d7604c72dd3dd6d3eb3d249abf36cc532c9a9b4354b8f1bc4f\n",
      "Successfully built mysql.connector\n",
      "Installing collected packages: mysql.connector\n",
      "Successfully installed mysql.connector-2.2.9\n"
     ]
    }
   ],
   "source": [
    "!pip install mysql.connector\n"
   ]
  },
  {
   "cell_type": "code",
   "execution_count": 6,
   "id": "90697fb7-4937-4c09-99ed-d0b8659d8dfa",
   "metadata": {},
   "outputs": [],
   "source": [
    "import mysql.connector;"
   ]
  },
  {
   "cell_type": "code",
   "execution_count": null,
   "id": "0f607cf6-8bd0-4a25-a248-7c773582218b",
   "metadata": {},
   "outputs": [],
   "source": [
    "#connecting to the db here we to pass if the local server than local else ip of the servers,user name on the machine,\n",
    "# the database on the server \n",
    "conn = mysql.connector.connect(host = 'localhost',user = 'root',password = '',databse = 'world')"
   ]
  },
  {
   "cell_type": "code",
   "execution_count": null,
   "id": "cce1e977-4b99-494c-bad8-a3c26dc41311",
   "metadata": {},
   "outputs": [],
   "source": [
    "# we will recieve mySql connection and basically it is the database object we can use this database \n",
    "# by using sql we can easily manipulate the data\n",
    "df = pd.read_sql_query(\"select * from city\",conn);"
   ]
  }
 ],
 "metadata": {
  "kernelspec": {
   "display_name": "Python [conda env:base] *",
   "language": "python",
   "name": "conda-base-py"
  },
  "language_info": {
   "codemirror_mode": {
    "name": "ipython",
    "version": 3
   },
   "file_extension": ".py",
   "mimetype": "text/x-python",
   "name": "python",
   "nbconvert_exporter": "python",
   "pygments_lexer": "ipython3",
   "version": "3.12.7"
  }
 },
 "nbformat": 4,
 "nbformat_minor": 5
}

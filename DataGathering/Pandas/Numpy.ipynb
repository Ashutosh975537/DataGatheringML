{
 "cells": [
  {
   "cell_type": "code",
   "execution_count": 2,
   "id": "c1071ca4-e28c-458c-9447-ecb4896c4d77",
   "metadata": {},
   "outputs": [],
   "source": [
    "import pandas as pd;"
   ]
  },
  {
   "cell_type": "code",
   "execution_count": 9,
   "id": "6319f9c7-1821-4fdf-bd86-db688eb7b3ff",
   "metadata": {},
   "outputs": [],
   "source": [
    "import numpy as np ;"
   ]
  },
  {
   "cell_type": "markdown",
   "id": "fb44d73c-3699-4379-9289-4170b587d467",
   "metadata": {},
   "source": [
    "# creaating the numpy array"
   ]
  },
  {
   "cell_type": "code",
   "execution_count": 11,
   "id": "d6731fad-bbc9-4af8-8c1a-23665a842e60",
   "metadata": {},
   "outputs": [],
   "source": [
    "#using np.array(); Here we have to pass the list and it will covert the list of homogenous values into array"
   ]
  },
  {
   "cell_type": "code",
   "execution_count": 13,
   "id": "052a5cc6-4e10-4ba7-a5cf-1141a5766428",
   "metadata": {},
   "outputs": [
    {
     "name": "stdout",
     "output_type": "stream",
     "text": [
      "[1 2 3 4]\n"
     ]
    }
   ],
   "source": [
    "arr = np.array([1,2,3,4]);\n",
    "print(arr);"
   ]
  },
  {
   "cell_type": "code",
   "execution_count": 15,
   "id": "4e1a8758-32bd-4a39-b9e0-aad60dafde96",
   "metadata": {},
   "outputs": [
    {
     "name": "stdout",
     "output_type": "stream",
     "text": [
      "<class 'numpy.ndarray'>\n"
     ]
    }
   ],
   "source": [
    "print(type(arr));"
   ]
  },
  {
   "cell_type": "code",
   "execution_count": 19,
   "id": "244f76ee-def0-485f-94a2-d8c23a684117",
   "metadata": {},
   "outputs": [
    {
     "name": "stdout",
     "output_type": "stream",
     "text": [
      "[[1 2 3]\n",
      " [1 2 3]]\n"
     ]
    }
   ],
   "source": [
    "#2D array Here we pass list of lists it looks like a matrix\n",
    "arr = np.array([[1,2,3],[1,2,3]]);\n",
    "print(arr);"
   ]
  },
  {
   "cell_type": "code",
   "execution_count": 21,
   "id": "7d98ac36-2de1-41ba-a30c-5ebd111cc119",
   "metadata": {},
   "outputs": [
    {
     "data": {
      "text/plain": [
       "array([[1, 2, 3],\n",
       "       [1, 2, 3]])"
      ]
     },
     "execution_count": 21,
     "metadata": {},
     "output_type": "execute_result"
    }
   ],
   "source": [
    "arr"
   ]
  },
  {
   "cell_type": "code",
   "execution_count": 29,
   "id": "094d0eb1-a89c-48d1-b7fd-ece5db96bacb",
   "metadata": {},
   "outputs": [
    {
     "data": {
      "text/plain": [
       "array([[0., 0., 0.],\n",
       "       [0., 0., 0.]])"
      ]
     },
     "execution_count": 29,
     "metadata": {},
     "output_type": "execute_result"
    }
   ],
   "source": [
    "# zeros we give a shape to this function it creates a 2D matrix of the shape which is a tuple with all values as zero the if we single dimension it \n",
    "# just take a list\n",
    "arrayWithAllZeros = np.zeros((2,3));\n",
    "arrayWithAllZeros"
   ]
  },
  {
   "cell_type": "code",
   "execution_count": 51,
   "id": "6c7be90d-95ca-43ff-b3e6-0a34b7baa2cb",
   "metadata": {},
   "outputs": [
    {
     "name": "stdout",
     "output_type": "stream",
     "text": [
      "[[1 1 1]\n",
      " [1 1 1]\n",
      " [1 1 1]]\n"
     ]
    }
   ],
   "source": [
    "arrayWithAllOnes = np.ones((3,3),dtype = int);\n",
    "print(arrayWithAllOnes);"
   ]
  },
  {
   "cell_type": "code",
   "execution_count": 53,
   "id": "52bad0aa-0c54-4568-9052-6828bbfedcf3",
   "metadata": {},
   "outputs": [],
   "source": [
    "# creating array with identity matrix "
   ]
  },
  {
   "cell_type": "code",
   "execution_count": 59,
   "id": "268d1784-8a36-496f-932d-4fc67cc62786",
   "metadata": {},
   "outputs": [
    {
     "data": {
      "text/plain": [
       "array([[1, 0, 0, 0, 0],\n",
       "       [0, 1, 0, 0, 0],\n",
       "       [0, 0, 1, 0, 0],\n",
       "       [0, 0, 0, 1, 0],\n",
       "       [0, 0, 0, 0, 1]])"
      ]
     },
     "execution_count": 59,
     "metadata": {},
     "output_type": "execute_result"
    }
   ],
   "source": [
    "identityArray = np.identity(5,dtype = int);\n",
    "identityArray"
   ]
  },
  {
   "cell_type": "code",
   "execution_count": 71,
   "id": "a479a13f-347e-40c4-9304-f73ff1439246",
   "metadata": {},
   "outputs": [
    {
     "name": "stdout",
     "output_type": "stream",
     "text": [
      "[0 1 2 3 4 5 6 7 8 9]\n"
     ]
    },
    {
     "data": {
      "text/plain": [
       "array([ 5,  6,  7,  8,  9, 10, 11, 12, 13, 14, 15])"
      ]
     },
     "execution_count": 71,
     "metadata": {},
     "output_type": "execute_result"
    }
   ],
   "source": [
    "# it will give a list of the from 0 to n - 1 \n",
    "arangeArray = np.arange(10);\n",
    "print(arangeArray);\n",
    "# arange with the upper limit and the lower limit\n",
    "arangeArrayWithLimits = np.arange(5,16);\n",
    "arangeArrayWithLimits"
   ]
  },
  {
   "cell_type": "code",
   "execution_count": 73,
   "id": "e52d78f8-4947-472c-8283-d8b05d280809",
   "metadata": {},
   "outputs": [],
   "source": [
    "# creating an array with linspace if we plot this lines on the number line they will be at equall distance"
   ]
  },
  {
   "cell_type": "code",
   "execution_count": 75,
   "id": "c54e24a8-af93-4d9a-9fd2-aed0e5779723",
   "metadata": {},
   "outputs": [
    {
     "data": {
      "text/plain": [
       "array([10. , 12.5, 15. , 17.5, 20. ])"
      ]
     },
     "execution_count": 75,
     "metadata": {},
     "output_type": "execute_result"
    }
   ],
   "source": [
    "# it will take lower limit , upper limit and no of point between them\n",
    "linSpaceArray = np.linspace(10,20,5);\n",
    "linSpaceArray"
   ]
  },
  {
   "cell_type": "code",
   "execution_count": 79,
   "id": "79a01716-fb3d-4849-b89f-274003f80fa4",
   "metadata": {},
   "outputs": [
    {
     "data": {
      "text/plain": [
       "array([10. , 12.5, 15. , 17.5, 20. ])"
      ]
     },
     "execution_count": 79,
     "metadata": {},
     "output_type": "execute_result"
    }
   ],
   "source": [
    "copyArray = linSpaceArray.copy();\n",
    "copyArray "
   ]
  },
  {
   "cell_type": "markdown",
   "id": "b419f66a-4c0a-4b1a-b562-9a86063fcc6e",
   "metadata": {},
   "source": [
    "# Numpy Array is a class so it have attributes and properties \n",
    "## shape -> How may spaces are pushed in each row \n",
    "## ndim -> dimension of array \n",
    "## size -> Total Elements\n",
    "## itemSize -> It tell How much a single element is Occupying\n",
    "## dtype -> It tell what kind of the dataType needs to be given\n",
    "## asType -> It is a function that coverts our data in different types"
   ]
  },
  {
   "cell_type": "code",
   "execution_count": 82,
   "id": "e67aee06-8061-439c-8609-d520e51e8f0d",
   "metadata": {},
   "outputs": [
    {
     "data": {
      "text/plain": [
       "(2, 3)"
      ]
     },
     "execution_count": 82,
     "metadata": {},
     "output_type": "execute_result"
    }
   ],
   "source": [
    "# it we give list in the shape it will consider all the values as row only\n",
    "arr.shape"
   ]
  },
  {
   "cell_type": "code",
   "execution_count": 84,
   "id": "dbddd69c-b807-42a5-99e6-b906c214b9e4",
   "metadata": {},
   "outputs": [
    {
     "data": {
      "text/plain": [
       "(4,)"
      ]
     },
     "execution_count": 84,
     "metadata": {},
     "output_type": "execute_result"
    }
   ],
   "source": [
    "oneDimArray = np.array([1,2,3,4]);\n",
    "oneDimArray.shape\n"
   ]
  },
  {
   "cell_type": "code",
   "execution_count": 94,
   "id": "3a9dbf9f-fa4d-4eb9-b74a-39fb60401cad",
   "metadata": {},
   "outputs": [
    {
     "data": {
      "text/plain": [
       "(2, 2, 3)"
      ]
     },
     "execution_count": 94,
     "metadata": {},
     "output_type": "execute_result"
    }
   ],
   "source": [
    "# the output is page , row and column\n",
    "\n",
    "threeDimArray = np.array([[  [1,2,3],[4,5,6] ],[ [7,8,9],[10,11,12]] ]);\n",
    "threeDimArray.shape"
   ]
  },
  {
   "cell_type": "code",
   "execution_count": 98,
   "id": "f9d13e03-28cb-4ee3-9c12-0767e7e5cae4",
   "metadata": {},
   "outputs": [
    {
     "data": {
      "text/plain": [
       "(2, 2, 1)"
      ]
     },
     "execution_count": 98,
     "metadata": {},
     "output_type": "execute_result"
    }
   ],
   "source": [
    "threeDArray = np.array([[[1],[1]],[[1],[1]]]);\n",
    "threeDArray.shape"
   ]
  },
  {
   "cell_type": "code",
   "execution_count": 107,
   "id": "42cb5078-8a5c-4e0c-b5e7-212a9d449bd3",
   "metadata": {},
   "outputs": [
    {
     "data": {
      "text/plain": [
       "4"
      ]
     },
     "execution_count": 107,
     "metadata": {},
     "output_type": "execute_result"
    }
   ],
   "source": [
    "threeDArray.itemsize"
   ]
  },
  {
   "cell_type": "code",
   "execution_count": 110,
   "id": "93ac51cd-082f-425c-b315-658c04d6718b",
   "metadata": {},
   "outputs": [],
   "source": [
    "# dtype by default for int is int32 and float64"
   ]
  },
  {
   "cell_type": "code",
   "execution_count": 121,
   "id": "7176db0c-de1e-4c47-970d-63960955b5af",
   "metadata": {},
   "outputs": [
    {
     "data": {
      "text/plain": [
       "array([0, 0, 0, 0, 0, 0, 0, 0, 0, 0], dtype=int8)"
      ]
     },
     "execution_count": 121,
     "metadata": {},
     "output_type": "execute_result"
    }
   ],
   "source": [
    "#as type takes a string and covert the data of the array in that format only\n",
    "zeroArray = np.zeros(10);\n",
    "zeroArray.astype('int8')"
   ]
  },
  {
   "cell_type": "markdown",
   "id": "ddbf3061-29f5-48ea-b3fe-0b664a8b5012",
   "metadata": {},
   "source": [
    "# python List vs Array"
   ]
  },
  {
   "cell_type": "code",
   "execution_count": 124,
   "id": "ef5f1f27-267a-45d0-9ce5-538d8b7917d1",
   "metadata": {},
   "outputs": [],
   "source": [
    "# numpy array are faster\n",
    "# convinient \n",
    "# less Memory"
   ]
  },
  {
   "cell_type": "code",
   "execution_count": 126,
   "id": "780e073e-7c80-4da9-8755-e2136318bbb2",
   "metadata": {},
   "outputs": [],
   "source": [
    "listArray = range(100) ;\n",
    "npArray = np.arange(100) ;\n"
   ]
  },
  {
   "cell_type": "code",
   "execution_count": 128,
   "id": "999da5f0-7307-4edf-97c8-56b0245f1c12",
   "metadata": {},
   "outputs": [],
   "source": [
    "import sys \n",
    "# system.getsizeof() -> it gives the size of the given data in the bytes"
   ]
  },
  {
   "cell_type": "code",
   "execution_count": 140,
   "id": "f6a884d4-8b9c-4035-8d5e-75bd554d23c9",
   "metadata": {},
   "outputs": [
    {
     "name": "stdout",
     "output_type": "stream",
     "text": [
      "2800\n"
     ]
    }
   ],
   "source": [
    "print(sys.getsizeof(87)*len(listArray));"
   ]
  },
  {
   "cell_type": "code",
   "execution_count": 144,
   "id": "731198ce-44bd-431d-a403-efb0db52308f",
   "metadata": {},
   "outputs": [
    {
     "name": "stdout",
     "output_type": "stream",
     "text": [
      "400\n"
     ]
    }
   ],
   "source": [
    "print(npArray.itemsize*npArray.size);"
   ]
  },
  {
   "cell_type": "code",
   "execution_count": 146,
   "id": "427e3c22-f635-498e-9521-ebaf05a20900",
   "metadata": {},
   "outputs": [
    {
     "data": {
      "text/plain": [
       "2400"
      ]
     },
     "execution_count": 146,
     "metadata": {},
     "output_type": "execute_result"
    }
   ],
   "source": [
    "2800 - 400  #there is a huge difference of the 2400byte in the actual domain we work with a lot of data  hence it is a huge huge differnece"
   ]
  },
  {
   "cell_type": "code",
   "execution_count": 148,
   "id": "841ccf5f-d7b5-4a89-bb1f-b86aedad90e1",
   "metadata": {},
   "outputs": [],
   "source": [
    "import time as T ;"
   ]
  },
  {
   "cell_type": "code",
   "execution_count": 154,
   "id": "445200b4-7bd9-4ac4-9c2c-bbee7277099e",
   "metadata": {},
   "outputs": [
    {
     "name": "stdout",
     "output_type": "stream",
     "text": [
      "0.05162763595581055\n"
     ]
    }
   ],
   "source": [
    "listArrayOne = range(100000) ;\n",
    "listArrayTwo = range(100000,200000);\n",
    "start_time = T.time() ;\n",
    "listSumArray = [(x,y) for x,y in zip(listArrayOne,listArrayTwo)] ;\n",
    "print(T.time() - start_time);"
   ]
  },
  {
   "cell_type": "code",
   "execution_count": 156,
   "id": "ce733867-f06d-4ca7-a064-a5d9d7753cb2",
   "metadata": {},
   "outputs": [
    {
     "name": "stdout",
     "output_type": "stream",
     "text": [
      "0.02986454963684082\n"
     ]
    }
   ],
   "source": [
    "npArrayOne = np.arange(100000) ;\n",
    "npArrayTwo = np.arange(100000) ;\n",
    "start_time = T.time() ;\n",
    "npSumArray = npArrayOne + npArrayTwo ;\n",
    "print(T.time() - start_time) ;"
   ]
  },
  {
   "cell_type": "markdown",
   "id": "baae8a06-a041-4124-9b08-ecdbc735e1bc",
   "metadata": {},
   "source": [
    "# indexing , slicing and iteration"
   ]
  },
  {
   "cell_type": "code",
   "execution_count": 161,
   "id": "76d26b95-7d1a-423d-a976-5e1bbe6e1c76",
   "metadata": {},
   "outputs": [
    {
     "data": {
      "text/plain": [
       "array([[ 0,  1,  2,  3],\n",
       "       [ 4,  5,  6,  7],\n",
       "       [ 8,  9, 10, 11],\n",
       "       [12, 13, 14, 15],\n",
       "       [16, 17, 18, 19],\n",
       "       [20, 21, 22, 23]])"
      ]
     },
     "execution_count": 161,
     "metadata": {},
     "output_type": "execute_result"
    }
   ],
   "source": [
    "array = np.arange(24).reshape(6,4);\n",
    "array"
   ]
  },
  {
   "cell_type": "code",
   "execution_count": 165,
   "id": "21e65cdd-7b9d-45c5-8a51-307b1398f14c",
   "metadata": {},
   "outputs": [
    {
     "data": {
      "text/plain": [
       "array([0, 1, 2, 3])"
      ]
     },
     "execution_count": 165,
     "metadata": {},
     "output_type": "execute_result"
    }
   ],
   "source": [
    "# I need first Row\n",
    "array[0]"
   ]
  },
  {
   "cell_type": "code",
   "execution_count": 175,
   "id": "3106a9f6-6513-4e07-b0f7-3461076a7a36",
   "metadata": {},
   "outputs": [
    {
     "data": {
      "text/plain": [
       "array([ 2,  6, 10, 14, 18, 22])"
      ]
     },
     "execution_count": 175,
     "metadata": {},
     "output_type": "execute_result"
    }
   ],
   "source": [
    "# what if I need third colummn I need all row and single column\n",
    "array[:,2] # it will pcik all rows and the column 2 only "
   ]
  },
  {
   "cell_type": "code",
   "execution_count": 183,
   "id": "9ccaac30-6c85-4441-ae3c-cffac4688329",
   "metadata": {},
   "outputs": [
    {
     "data": {
      "text/plain": [
       "array([[ 2,  3],\n",
       "       [ 6,  7],\n",
       "       [10, 11],\n",
       "       [14, 15],\n",
       "       [18, 19],\n",
       "       [22, 23]])"
      ]
     },
     "execution_count": 183,
     "metadata": {},
     "output_type": "execute_result"
    }
   ],
   "source": [
    "array[:,2:4]\n",
    "# for i in range(0,6):\n",
    "#     for j in range (2,4):\n",
    "#         print(array[i][j]);"
   ]
  },
  {
   "cell_type": "code",
   "execution_count": 185,
   "id": "80e7a6ad-7f51-40e7-a1d7-9308aba3cebd",
   "metadata": {},
   "outputs": [
    {
     "name": "stdout",
     "output_type": "stream",
     "text": [
      "[0 1 2 3]\n",
      "[4 5 6 7]\n",
      "[ 8  9 10 11]\n",
      "[12 13 14 15]\n",
      "[16 17 18 19]\n",
      "[20 21 22 23]\n"
     ]
    }
   ],
   "source": [
    "for i in array :\n",
    "    print(i);"
   ]
  },
  {
   "cell_type": "code",
   "execution_count": 191,
   "id": "d900cebd-d96a-4911-9066-fd4d60e4eebb",
   "metadata": {},
   "outputs": [
    {
     "name": "stdout",
     "output_type": "stream",
     "text": [
      "0\n",
      "1\n",
      "2\n",
      "3\n",
      "4\n",
      "5\n",
      "6\n",
      "7\n",
      "8\n",
      "9\n",
      "10\n",
      "11\n",
      "12\n",
      "13\n",
      "14\n",
      "15\n",
      "16\n",
      "17\n",
      "18\n",
      "19\n",
      "20\n",
      "21\n",
      "22\n",
      "23\n"
     ]
    }
   ],
   "source": [
    "for i in array :\n",
    "    for j in i :\n",
    "        print(j)"
   ]
  },
  {
   "cell_type": "code",
   "execution_count": 193,
   "id": "0c7edf20-cd92-4e82-aaf2-78d2284b895e",
   "metadata": {},
   "outputs": [
    {
     "name": "stdout",
     "output_type": "stream",
     "text": [
      "0\n",
      "1\n",
      "2\n",
      "3\n",
      "4\n",
      "5\n",
      "6\n",
      "7\n",
      "8\n",
      "9\n",
      "10\n",
      "11\n",
      "12\n",
      "13\n",
      "14\n",
      "15\n",
      "16\n",
      "17\n",
      "18\n",
      "19\n",
      "20\n",
      "21\n",
      "22\n",
      "23\n"
     ]
    }
   ],
   "source": [
    "# nditer takes out all the elements one by one and prints it\n",
    "for i in np.nditer(array):\n",
    "    print(i);"
   ]
  },
  {
   "cell_type": "markdown",
   "id": "f4fb365f-649b-43e6-a8c3-1ef902574a8f",
   "metadata": {},
   "source": [
    "# operations in the numpy array"
   ]
  },
  {
   "cell_type": "code",
   "execution_count": 203,
   "id": "4689a53a-6c77-44c8-aa3f-a7c3be705946",
   "metadata": {},
   "outputs": [
    {
     "name": "stdout",
     "output_type": "stream",
     "text": [
      "[ 5  7  9 11 14]\n"
     ]
    }
   ],
   "source": [
    "# for addition the drewback is the shape of the array must be same\n",
    "a = np.array([1,2,3,4,5]);\n",
    "b = np.array([4,5,6,7,9]);\n",
    "c = a + b \n",
    "print(c);"
   ]
  },
  {
   "cell_type": "code",
   "execution_count": 205,
   "id": "4dcb8525-0da4-4825-83c2-57770cfed3db",
   "metadata": {},
   "outputs": [
    {
     "name": "stdout",
     "output_type": "stream",
     "text": [
      "[ 4 10 18 28 45]\n"
     ]
    }
   ],
   "source": [
    "d = a*b ;\n",
    "print(d);"
   ]
  },
  {
   "cell_type": "code",
   "execution_count": 207,
   "id": "0fa8f56a-7d5c-4544-bb22-2ef4f51cab91",
   "metadata": {},
   "outputs": [
    {
     "name": "stdout",
     "output_type": "stream",
     "text": [
      "[ 2  4  6  8 10]\n"
     ]
    }
   ],
   "source": [
    "a = a*2 ;\n",
    "print(a);"
   ]
  },
  {
   "cell_type": "code",
   "execution_count": 213,
   "id": "5432a394-0e67-4d10-beb0-37ea74669d08",
   "metadata": {},
   "outputs": [
    {
     "name": "stdout",
     "output_type": "stream",
     "text": [
      "[False  True  True  True  True]\n"
     ]
    }
   ],
   "source": [
    "# each element of the a will be iteratated and then if any element is greater than 2 it will return true else it will return false \n",
    "e = a > 2 ;\n",
    "print(e);"
   ]
  },
  {
   "cell_type": "code",
   "execution_count": 217,
   "id": "a55c0d37-9df9-410f-aceb-8fcccbd06408",
   "metadata": {},
   "outputs": [
    {
     "ename": "SyntaxError",
     "evalue": "invalid syntax (649012065.py, line 6)",
     "output_type": "error",
     "traceback": [
      "\u001b[1;36m  Cell \u001b[1;32mIn[217], line 6\u001b[1;36m\u001b[0m\n\u001b[1;33m    **/()\u001b[0m\n\u001b[1;37m    ^\u001b[0m\n\u001b[1;31mSyntaxError\u001b[0m\u001b[1;31m:\u001b[0m invalid syntax\n"
     ]
    }
   ],
   "source": [
    "arrayOne = np.arange(6).reshape(2,3) ;\n",
    "arrayTwo = np.arange(6,12).reshape(3,2) ;\n",
    "dotArray = arrayOne.dot(arrayTwo) ;\n",
    "print(dotArray);\n",
    "\n",
    "# [ 0 , 1 , 2]    \n",
    "# [ 3 , 4 , 5]\n",
    "\n",
    "# [6, 7 ,8 ]\n",
    "# [9 ,10 , 11]\n",
    "\n"
   ]
  },
  {
   "cell_type": "code",
   "execution_count": null,
   "id": "51c37ee7-8742-4d17-8874-da639c945d20",
   "metadata": {},
   "outputs": [],
   "source": [
    "# The max gives the maximum and the min gives the minimum"
   ]
  },
  {
   "cell_type": "code",
   "execution_count": 219,
   "id": "dcbe618b-6771-46c9-8e86-1e4d3aae8756",
   "metadata": {},
   "outputs": [
    {
     "name": "stdout",
     "output_type": "stream",
     "text": [
      "11\n"
     ]
    }
   ],
   "source": [
    "print(arrayTwo.max());"
   ]
  },
  {
   "cell_type": "code",
   "execution_count": 221,
   "id": "080148bf-fca8-4f8c-83ff-2032b385a319",
   "metadata": {},
   "outputs": [
    {
     "data": {
      "text/plain": [
       "6"
      ]
     },
     "execution_count": 221,
     "metadata": {},
     "output_type": "execute_result"
    }
   ],
   "source": [
    "arrayTwo.min()"
   ]
  },
  {
   "cell_type": "code",
   "execution_count": 225,
   "id": "7e8043da-2274-47fb-8caa-bcc5e4b9edb8",
   "metadata": {},
   "outputs": [
    {
     "name": "stdout",
     "output_type": "stream",
     "text": [
      "[[ 6  7]\n",
      " [ 8  9]\n",
      " [10 11]]\n"
     ]
    }
   ],
   "source": [
    "print(arrayTwo);\n",
    "\n"
   ]
  },
  {
   "cell_type": "code",
   "execution_count": 223,
   "id": "2d526e85-ea82-4acc-b18e-3a35bdc8d31b",
   "metadata": {},
   "outputs": [
    {
     "data": {
      "text/plain": [
       "array([6, 7])"
      ]
     },
     "execution_count": 223,
     "metadata": {},
     "output_type": "execute_result"
    }
   ],
   "source": [
    "#axis 0 mean column wise min means get me the each column min value\n",
    "arrayTwo.min(axis = 0 )"
   ]
  },
  {
   "cell_type": "code",
   "execution_count": 227,
   "id": "2ee3ab9f-09a5-4849-b8dd-8a9c7ba52de4",
   "metadata": {},
   "outputs": [],
   "source": [
    "# axis 1 means row wise give me the min value of every column"
   ]
  },
  {
   "cell_type": "code",
   "execution_count": 229,
   "id": "d2016daa-cd09-4ed9-9143-4dbfd4265d99",
   "metadata": {},
   "outputs": [
    {
     "data": {
      "text/plain": [
       "array([ 6,  8, 10])"
      ]
     },
     "execution_count": 229,
     "metadata": {},
     "output_type": "execute_result"
    }
   ],
   "source": [
    "arrayTwo.min(axis = 1 )"
   ]
  },
  {
   "cell_type": "code",
   "execution_count": 231,
   "id": "d4bc51ac-2125-471b-9f51-4bd95c9ebd22",
   "metadata": {},
   "outputs": [
    {
     "data": {
      "text/plain": [
       "51"
      ]
     },
     "execution_count": 231,
     "metadata": {},
     "output_type": "execute_result"
    }
   ],
   "source": [
    "arrayTwo.sum()"
   ]
  },
  {
   "cell_type": "code",
   "execution_count": 235,
   "id": "adee1efc-2f7a-4289-bbcd-deb5602426ed",
   "metadata": {},
   "outputs": [
    {
     "data": {
      "text/plain": [
       "array([24, 27])"
      ]
     },
     "execution_count": 235,
     "metadata": {},
     "output_type": "execute_result"
    }
   ],
   "source": [
    "arrayTwo.sum(axis = 0 )"
   ]
  },
  {
   "cell_type": "code",
   "execution_count": 239,
   "id": "8954e847-d536-4777-834e-9ee814b170a8",
   "metadata": {},
   "outputs": [
    {
     "name": "stdout",
     "output_type": "stream",
     "text": [
      "8.5\n"
     ]
    }
   ],
   "source": [
    "print(arrayTwo.mean());"
   ]
  },
  {
   "cell_type": "code",
   "execution_count": 241,
   "id": "8f2b85d9-c307-4044-b485-0c8467c21178",
   "metadata": {},
   "outputs": [
    {
     "name": "stdout",
     "output_type": "stream",
     "text": [
      "[8. 9.]\n"
     ]
    }
   ],
   "source": [
    "print(arrayTwo.mean(axis = 0));\n"
   ]
  },
  {
   "cell_type": "code",
   "execution_count": 245,
   "id": "ddf88148-3903-4d44-965e-27c6d16e2f3b",
   "metadata": {},
   "outputs": [
    {
     "name": "stdout",
     "output_type": "stream",
     "text": [
      "1.707825127659933\n"
     ]
    }
   ],
   "source": [
    "# std is  what std standard deviation that is deviation of the obbject from its mean position\n",
    "print(arrayTwo.std());"
   ]
  },
  {
   "cell_type": "code",
   "execution_count": 249,
   "id": "26e468d5-cd4a-470c-99d5-a09631eadc1f",
   "metadata": {},
   "outputs": [
    {
     "name": "stdout",
     "output_type": "stream",
     "text": [
      "8.5\n"
     ]
    }
   ],
   "source": [
    "print(np.median(arrayTwo));"
   ]
  },
  {
   "cell_type": "markdown",
   "id": "09092369-d76c-4b85-8cca-6c58949f6fcc",
   "metadata": {},
   "source": [
    "# reshaping"
   ]
  },
  {
   "cell_type": "code",
   "execution_count": 252,
   "id": "fc148e5f-ce5e-497c-a16b-5821c3d5aff4",
   "metadata": {},
   "outputs": [],
   "source": [
    "# revel function it coverts the higher dimensional array into a lower dimensional array"
   ]
  },
  {
   "cell_type": "code",
   "execution_count": 254,
   "id": "97078ab4-502d-492e-8256-c4eaa06368dd",
   "metadata": {},
   "outputs": [
    {
     "name": "stdout",
     "output_type": "stream",
     "text": [
      "[[ 6  7]\n",
      " [ 8  9]\n",
      " [10 11]]\n"
     ]
    }
   ],
   "source": [
    "print(arrayTwo);"
   ]
  },
  {
   "cell_type": "code",
   "execution_count": 258,
   "id": "f72d6745-ad20-42e5-a444-fac9366c7223",
   "metadata": {},
   "outputs": [
    {
     "data": {
      "text/plain": [
       "2"
      ]
     },
     "execution_count": 258,
     "metadata": {},
     "output_type": "execute_result"
    }
   ],
   "source": [
    "arrayTwo.ndim"
   ]
  },
  {
   "cell_type": "code",
   "execution_count": 262,
   "id": "9dd50adc-1f37-4736-8159-04f327f4c260",
   "metadata": {},
   "outputs": [
    {
     "name": "stdout",
     "output_type": "stream",
     "text": [
      "[ 6  7  8  9 10 11]\n"
     ]
    }
   ],
   "source": [
    "c = arrayTwo.ravel();\n",
    "print(c);"
   ]
  },
  {
   "cell_type": "code",
   "execution_count": 264,
   "id": "6f6363ef-8859-4a66-9992-02778d5b1cf9",
   "metadata": {},
   "outputs": [
    {
     "name": "stdout",
     "output_type": "stream",
     "text": [
      "[[ 6  8 10]\n",
      " [ 7  9 11]]\n"
     ]
    }
   ],
   "source": [
    "print(arrayTwo.transpose()); # first column becomes first row or vice versa"
   ]
  },
  {
   "cell_type": "code",
   "execution_count": 274,
   "id": "049591b2-f45e-4e2c-8173-8e3fd1848b60",
   "metadata": {},
   "outputs": [
    {
     "name": "stdout",
     "output_type": "stream",
     "text": [
      "[[ 6  8 10]\n",
      " [ 7  9 11]]\n",
      "[[ 6  7  8]\n",
      " [ 9 10 11]]\n"
     ]
    }
   ],
   "source": [
    "a1 = arrayTwo.transpose();\n",
    "a2 = np.arange(6,12).reshape(2,3);\n",
    "print(a1);\n",
    "print(a2);"
   ]
  },
  {
   "cell_type": "code",
   "execution_count": 278,
   "id": "af865414-8aea-4cc0-a39a-4f282de1edd2",
   "metadata": {},
   "outputs": [
    {
     "name": "stdout",
     "output_type": "stream",
     "text": [
      "[[ 6  8 10  6  7  8]\n",
      " [ 7  9 11  9 10 11]]\n"
     ]
    }
   ],
   "source": [
    "print(np.hstack((a1,a2)));"
   ]
  },
  {
   "cell_type": "code",
   "execution_count": 284,
   "id": "68a1c550-f34b-4e97-943e-0864450938a1",
   "metadata": {},
   "outputs": [
    {
     "name": "stdout",
     "output_type": "stream",
     "text": [
      "[[ 6  8 10]\n",
      " [ 7  9 11]\n",
      " [ 6  7  8]\n",
      " [ 9 10 11]]\n"
     ]
    }
   ],
   "source": [
    "print(np.vstack((a1,a2)));"
   ]
  },
  {
   "cell_type": "markdown",
   "id": "4e3a2bb3-ba79-49c9-877f-3e3b3754f9a1",
   "metadata": {},
   "source": [
    "# fancy indexing"
   ]
  },
  {
   "cell_type": "code",
   "execution_count": 287,
   "id": "5a9338b0-e3c6-4e91-a269-0a2151426b32",
   "metadata": {},
   "outputs": [],
   "source": [
    "array = np.arange(24).reshape(6,4);"
   ]
  },
  {
   "cell_type": "code",
   "execution_count": 289,
   "id": "27ef1711-3d62-448b-a6d3-cf397e7ea862",
   "metadata": {},
   "outputs": [
    {
     "name": "stdout",
     "output_type": "stream",
     "text": [
      "[[ 0  1  2  3]\n",
      " [ 4  5  6  7]\n",
      " [ 8  9 10 11]\n",
      " [12 13 14 15]\n",
      " [16 17 18 19]\n",
      " [20 21 22 23]]\n"
     ]
    }
   ],
   "source": [
    "print(array);"
   ]
  },
  {
   "cell_type": "code",
   "execution_count": 291,
   "id": "a205302b-0c1b-4b71-800a-5a4cf191c581",
   "metadata": {},
   "outputs": [
    {
     "data": {
      "text/plain": [
       "array([[ 8,  9, 10, 11],\n",
       "       [16, 17, 18, 19],\n",
       "       [20, 21, 22, 23]])"
      ]
     },
     "execution_count": 291,
     "metadata": {},
     "output_type": "execute_result"
    }
   ],
   "source": [
    "array[[2,4,5]]"
   ]
  },
  {
   "cell_type": "code",
   "execution_count": 293,
   "id": "a1cc5635-310e-4888-bb7f-8fdc408faee3",
   "metadata": {},
   "outputs": [],
   "source": [
    "# here we are generating low , high and proving the size and reshaping it into 4 , 5\n",
    "array = np.random.randint(low = 0 , high = 100 , size = 20).reshape(4,5);"
   ]
  },
  {
   "cell_type": "code",
   "execution_count": 295,
   "id": "c86bc151-47ff-4009-9e9c-9cdf78a230a7",
   "metadata": {},
   "outputs": [
    {
     "name": "stdout",
     "output_type": "stream",
     "text": [
      "[[64  8 38 32 42]\n",
      " [64 94 89 57 60]\n",
      " [73 18 45  9 76]\n",
      " [32 61  5 13 37]]\n"
     ]
    }
   ],
   "source": [
    "print(array);"
   ]
  },
  {
   "cell_type": "code",
   "execution_count": 297,
   "id": "c0ab1769-3b23-44fa-8fc6-12b487144c02",
   "metadata": {},
   "outputs": [
    {
     "name": "stdout",
     "output_type": "stream",
     "text": [
      "[[ True False False False False]\n",
      " [ True  True  True  True  True]\n",
      " [ True False False False  True]\n",
      " [False  True False False False]]\n"
     ]
    }
   ],
   "source": [
    "print(array > 50);"
   ]
  },
  {
   "cell_type": "code",
   "execution_count": 299,
   "id": "3c513a64-1d59-4fe8-885c-b6735587378c",
   "metadata": {},
   "outputs": [
    {
     "name": "stdout",
     "output_type": "stream",
     "text": [
      "[64 64 94 89 57 60 73 76 61]\n"
     ]
    }
   ],
   "source": [
    "# it will return only those values whose values are greater than 50\n",
    "# it is called indexing using boolean array\n",
    "print(array[array>50]);"
   ]
  },
  {
   "cell_type": "code",
   "execution_count": 305,
   "id": "17dbbeeb-272a-4203-aec6-c6e44350da9f",
   "metadata": {},
   "outputs": [
    {
     "name": "stdout",
     "output_type": "stream",
     "text": [
      "[[64  8 38 32 42]\n",
      " [64 94  0  0 60]\n",
      " [ 0 18 45  9 76]\n",
      " [32  0  5 13 37]]\n"
     ]
    }
   ],
   "source": [
    "array[(array > 50) & (array % 2 != 0)] = 0 ;\n",
    "print(array);"
   ]
  },
  {
   "cell_type": "markdown",
   "id": "689ea537-8160-4198-89e4-5a8cc95fc673",
   "metadata": {},
   "source": [
    "# plotting graph using the numpy\n"
   ]
  },
  {
   "cell_type": "code",
   "execution_count": 308,
   "id": "96ad76d0-dc34-4f8a-a76c-5dd233ee1006",
   "metadata": {},
   "outputs": [
    {
     "name": "stdout",
     "output_type": "stream",
     "text": [
      "[-40.         -39.19191919 -38.38383838 -37.57575758 -36.76767677\n",
      " -35.95959596 -35.15151515 -34.34343434 -33.53535354 -32.72727273\n",
      " -31.91919192 -31.11111111 -30.3030303  -29.49494949 -28.68686869\n",
      " -27.87878788 -27.07070707 -26.26262626 -25.45454545 -24.64646465\n",
      " -23.83838384 -23.03030303 -22.22222222 -21.41414141 -20.60606061\n",
      " -19.7979798  -18.98989899 -18.18181818 -17.37373737 -16.56565657\n",
      " -15.75757576 -14.94949495 -14.14141414 -13.33333333 -12.52525253\n",
      " -11.71717172 -10.90909091 -10.1010101   -9.29292929  -8.48484848\n",
      "  -7.67676768  -6.86868687  -6.06060606  -5.25252525  -4.44444444\n",
      "  -3.63636364  -2.82828283  -2.02020202  -1.21212121  -0.4040404\n",
      "   0.4040404    1.21212121   2.02020202   2.82828283   3.63636364\n",
      "   4.44444444   5.25252525   6.06060606   6.86868687   7.67676768\n",
      "   8.48484848   9.29292929  10.1010101   10.90909091  11.71717172\n",
      "  12.52525253  13.33333333  14.14141414  14.94949495  15.75757576\n",
      "  16.56565657  17.37373737  18.18181818  18.98989899  19.7979798\n",
      "  20.60606061  21.41414141  22.22222222  23.03030303  23.83838384\n",
      "  24.64646465  25.45454545  26.26262626  27.07070707  27.87878788\n",
      "  28.68686869  29.49494949  30.3030303   31.11111111  31.91919192\n",
      "  32.72727273  33.53535354  34.34343434  35.15151515  35.95959596\n",
      "  36.76767677  37.57575758  38.38383838  39.19191919  40.        ]\n"
     ]
    }
   ],
   "source": [
    "x = np.linspace(-40,40,100);\n",
    "print(x);"
   ]
  },
  {
   "cell_type": "code",
   "execution_count": 310,
   "id": "b04d843b-47ef-40ba-952f-0dcdfa095950",
   "metadata": {},
   "outputs": [
    {
     "name": "stdout",
     "output_type": "stream",
     "text": [
      "[-0.74511316 -0.9969604  -0.63246122  0.12304167  0.80247705  0.98580059\n",
      "  0.55967698 -0.21245326 -0.85323945 -0.96653119 -0.48228862  0.30011711\n",
      "  0.89698277  0.93931073  0.40093277 -0.38531209 -0.93334716 -0.90436313\n",
      " -0.31627868  0.46733734  0.96203346  0.86197589  0.22902277 -0.54551809\n",
      " -0.9828057  -0.81249769 -0.13988282  0.61921119  0.995493    0.75633557\n",
      "  0.04959214 -0.68781042 -0.99999098 -0.69395153  0.0411065   0.75075145\n",
      "  0.99626264  0.62585878 -0.13146699 -0.8075165  -0.98433866 -0.55261747\n",
      "  0.22074597  0.85763861  0.96431712  0.47483011 -0.30820902 -0.90070545\n",
      " -0.93636273 -0.39313661  0.39313661  0.93636273  0.90070545  0.30820902\n",
      " -0.47483011 -0.96431712 -0.85763861 -0.22074597  0.55261747  0.98433866\n",
      "  0.8075165   0.13146699 -0.62585878 -0.99626264 -0.75075145 -0.0411065\n",
      "  0.69395153  0.99999098  0.68781042 -0.04959214 -0.75633557 -0.995493\n",
      " -0.61921119  0.13988282  0.81249769  0.9828057   0.54551809 -0.22902277\n",
      " -0.86197589 -0.96203346 -0.46733734  0.31627868  0.90436313  0.93334716\n",
      "  0.38531209 -0.40093277 -0.93931073 -0.89698277 -0.30011711  0.48228862\n",
      "  0.96653119  0.85323945  0.21245326 -0.55967698 -0.98580059 -0.80247705\n",
      " -0.12304167  0.63246122  0.9969604   0.74511316]\n"
     ]
    }
   ],
   "source": [
    "y = np.sin(x) ;\n",
    "print(y);"
   ]
  },
  {
   "cell_type": "code",
   "execution_count": 312,
   "id": "13768e62-2b55-49f9-923f-45e71ad60f4a",
   "metadata": {},
   "outputs": [],
   "source": [
    "import matplotlib.pyplot as plt ;"
   ]
  },
  {
   "cell_type": "code",
   "execution_count": 314,
   "id": "a287a2fa-34ad-4333-8f6f-aeed4f3ef699",
   "metadata": {},
   "outputs": [
    {
     "data": {
      "image/png": "[encoded data removed]",
      "text/plain": [
       "<Figure size 640x480 with 1 Axes>"
      ]
     },
     "metadata": {},
     "output_type": "display_data"
    }
   ],
   "source": [
    "plt.plot(y,x);\n",
    "# first thing goes on the  x the second thing goes on the y axis"
   ]
  },
  {
   "cell_type": "code",
   "execution_count": 316,
   "id": "4ca316d8-b245-4387-b212-34330c13317f",
   "metadata": {},
   "outputs": [
    {
     "data": {
      "image/png": "[encoded data removed]",
      "text/plain": [
       "<Figure size 640x480 with 1 Axes>"
      ]
     },
     "metadata": {},
     "output_type": "display_data"
    }
   ],
   "source": [
    "plt.plot(x,y);"
   ]
  },
  {
   "cell_type": "code",
   "execution_count": 322,
   "id": "397d6385-74b0-4d76-b390-4c96586a3067",
   "metadata": {},
   "outputs": [
    {
     "data": {
      "image/png": "[encoded data removed]",
      "text/plain": [
       "<Figure size 640x480 with 1 Axes>"
      ]
     },
     "metadata": {},
     "output_type": "display_data"
    }
   ],
   "source": [
    "y = x*x + 2*x + 6 ;\n",
    "plt.plot(x,y);"
   ]
  },
  {
   "cell_type": "markdown",
   "id": "8474ba9e-b679-45e5-9f88-f9d9571812bf",
   "metadata": {},
   "source": [
    "# braodcasting"
   ]
  },
  {
   "cell_type": "code",
   "execution_count": 327,
   "id": "dad65ac9-587c-4e93-b49c-be96f2151033",
   "metadata": {},
   "outputs": [
    {
     "name": "stdout",
     "output_type": "stream",
     "text": [
      "[[24 26 28 30]\n",
      " [32 34 36 38]\n",
      " [40 42 44 46]\n",
      " [48 50 52 54]\n",
      " [56 58 60 62]\n",
      " [64 66 68 70]]\n"
     ]
    }
   ],
   "source": [
    "a = np.arange(24).reshape(6,4) ;\n",
    "b = np.arange(24,48).reshape(6,4) ;\n",
    "print(a+b);\n"
   ]
  },
  {
   "cell_type": "code",
   "execution_count": 339,
   "id": "ce28e1d1-d194-49a4-8910-2b138d8aadaf",
   "metadata": {},
   "outputs": [
    {
     "name": "stdout",
     "output_type": "stream",
     "text": [
      "[[0 1 2 3]]\n"
     ]
    }
   ],
   "source": [
    "c = np.arange(4).reshape(1,4);\n",
    "print(c);"
   ]
  },
  {
   "cell_type": "code",
   "execution_count": 343,
   "id": "8a2d8293-1f0f-41a8-b186-c4ff357f0d9e",
   "metadata": {},
   "outputs": [
    {
     "name": "stdout",
     "output_type": "stream",
     "text": [
      "[[ 0  2  4  6]\n",
      " [ 4  6  8 10]\n",
      " [ 8 10 12 14]\n",
      " [12 14 16 18]\n",
      " [16 18 20 22]\n",
      " [20 22 24 26]]\n"
     ]
    }
   ],
   "source": [
    "d = a + c ; # here the first row of the c will get added to all the other rows of the a \n",
    "print(d);"
   ]
  },
  {
   "cell_type": "code",
   "execution_count": null,
   "id": "53d69e3e-47f8-4a88-bc5c-4582b4ec2d12",
   "metadata": {},
   "outputs": [],
   "source": [
    "# broadcasting if two array are of the different shape the lower array gets broadcasted to the larger array\n",
    "# if we don't have broadcasting sort of thing it will become very difficult for us"
   ]
  },
  {
   "cell_type": "markdown",
   "id": "e531ef59-fa67-4d3d-b0d0-13c1e6ae2bdb",
   "metadata": {},
   "source": [
    "# rules of the broadcasting"
   ]
  },
  {
   "cell_type": "code",
   "execution_count": 2,
   "id": "0f35765c-f313-440b-9cd5-1a466cb463d6",
   "metadata": {},
   "outputs": [],
   "source": [
    "# if the array have same shape then broadcasting will surely tae place\n",
    "# ager koi bhi dimension one hai hand uska corresponding dimension array me same tab bhi perform ho jayega broadcasting\n",
    "# ager dono array ke pass one and unke corressponding elements same hai tab bhi operation perform ho jayega\n",
    "# ager kisi bhi array ke dono dimension 1 hai tab bhi ho jayega"
   ]
  },
  {
   "cell_type": "markdown",
   "id": "d4ac0601-9091-45fe-8f63-f70f19cbd895",
   "metadata": {},
   "source": [
    "# Random Module\n"
   ]
  },
  {
   "cell_type": "code",
   "execution_count": 9,
   "id": "d76ca9c2-0e40-4552-ae8e-cfdb2862818f",
   "metadata": {},
   "outputs": [
    {
     "name": "stdout",
     "output_type": "stream",
     "text": [
      "0.4023801441029434\n"
     ]
    }
   ],
   "source": [
    "# it gives us any randomvalue\n",
    "import numpy as np ;\n",
    "randomValue = np.random.random();\n",
    "print(randomValue);"
   ]
  },
  {
   "cell_type": "code",
   "execution_count": 13,
   "id": "3a0100b5-07f7-4e0f-b288-5f7dde34d211",
   "metadata": {},
   "outputs": [
    {
     "name": "stdout",
     "output_type": "stream",
     "text": [
      "0.417022004702574\n"
     ]
    }
   ],
   "source": [
    "# if I want a constant random value I need to use seed function\n",
    "np.random.seed(1) ;\n",
    "randomValue = np.random.random();\n",
    "print(randomValue);"
   ]
  },
  {
   "cell_type": "code",
   "execution_count": 26,
   "id": "13d2ba82-c360-4749-96e0-beb8ad4f4445",
   "metadata": {},
   "outputs": [
    {
     "name": "stdout",
     "output_type": "stream",
     "text": [
      "1.0923385947687978\n"
     ]
    }
   ],
   "source": [
    "# if we want to generate a uniform random number between a range we can do something like so we will get a floating point number in the range of \n",
    "# 1 2\n",
    "randomValue = np.random.uniform(1,2);\n",
    "print(randomValue);"
   ]
  },
  {
   "cell_type": "code",
   "execution_count": 32,
   "id": "a618079c-6457-4571-be8e-0e84ddfcfbc6",
   "metadata": {},
   "outputs": [
    {
     "name": "stdout",
     "output_type": "stream",
     "text": [
      "[[ 9.41937693  4.86642354 17.81321154 87.93610784 10.73633655]\n",
      " [42.68965488 95.83106348 53.78336321 69.49583428 32.23604747]]\n"
     ]
    }
   ],
   "source": [
    "# if I want a uniform random array of integers we can give the third para is size as well\n",
    "randomValue = np.random.uniform(1,100,10).reshape(2,5);\n",
    "print(randomValue);"
   ]
  },
  {
   "cell_type": "code",
   "execution_count": 42,
   "id": "7f691d38-c729-4baa-806f-7fb1d39282da",
   "metadata": {},
   "outputs": [
    {
     "name": "stdout",
     "output_type": "stream",
     "text": [
      "[[84 39  9 33 35]\n",
      " [11 24 16 88 26]\n",
      " [72 93 75 63 47]\n",
      " [33 89 24 56 66]]\n"
     ]
    }
   ],
   "source": [
    "# if we want the number in integer we can have\n",
    "randomValues = np.random.randint(1,100,20).reshape(4,5)\n",
    ";\n",
    "print(randomValues);"
   ]
  },
  {
   "cell_type": "code",
   "execution_count": 46,
   "id": "fd05d670-640a-433e-b4a7-ddb3c621a036",
   "metadata": {},
   "outputs": [
    {
     "name": "stdout",
     "output_type": "stream",
     "text": [
      "[ 4  1 78  7 53 86 71  3 77 92 22 76  8 78 73 76 77 44 21 31]\n"
     ]
    }
   ],
   "source": [
    "randomValues = np.random.randint(1,100,20);\n",
    "print(randomValues);"
   ]
  },
  {
   "cell_type": "code",
   "execution_count": 48,
   "id": "441b8b92-6be4-4129-9646-c0944a82cce0",
   "metadata": {},
   "outputs": [
    {
     "name": "stdout",
     "output_type": "stream",
     "text": [
      "92\n"
     ]
    }
   ],
   "source": [
    "print(randomValues.max());"
   ]
  },
  {
   "cell_type": "code",
   "execution_count": 52,
   "id": "ac1f86cc-b0ae-4935-abb3-cb8791309c69",
   "metadata": {},
   "outputs": [
    {
     "name": "stdout",
     "output_type": "stream",
     "text": [
      "92\n"
     ]
    }
   ],
   "source": [
    "print(np.max(randomValues));"
   ]
  },
  {
   "cell_type": "code",
   "execution_count": 54,
   "id": "037b3370-5d67-4ddd-b8f1-c78d57495bf2",
   "metadata": {},
   "outputs": [
    {
     "name": "stdout",
     "output_type": "stream",
     "text": [
      "9\n"
     ]
    }
   ],
   "source": [
    "# argmax it will be giving the maximum value of the array\n",
    "maxIndex = np.argmax(randomValues);\n",
    "print(maxIndex);"
   ]
  },
  {
   "cell_type": "code",
   "execution_count": 56,
   "id": "50536709-6ef6-4839-beb0-c010c521b731",
   "metadata": {},
   "outputs": [
    {
     "name": "stdout",
     "output_type": "stream",
     "text": [
      "1\n"
     ]
    }
   ],
   "source": [
    "# argmin it will be giving us the minimum values\n",
    "minIndex = np.argmin(randomValues);\n",
    "print(minIndex);"
   ]
  },
  {
   "cell_type": "code",
   "execution_count": 58,
   "id": "4b6699f5-00f5-4cda-ade0-7066bc2bdddd",
   "metadata": {},
   "outputs": [],
   "source": [
    "# we need to replace all the odd values with -1"
   ]
  },
  {
   "cell_type": "code",
   "execution_count": 64,
   "id": "5c4375ab-1144-474e-8155-79a2566ea95d",
   "metadata": {},
   "outputs": [
    {
     "name": "stdout",
     "output_type": "stream",
     "text": [
      "[-1 -1 78 -1 -1 86 -1 -1 -1 92 22 76  8 78 -1 76 -1 44 -1 -1]\n"
     ]
    }
   ],
   "source": [
    "randomValues[(randomValues % 2) == 1] = -1 ;\n",
    "print(randomValues);"
   ]
  },
  {
   "cell_type": "code",
   "execution_count": 70,
   "id": "bbfa8eaa-dff0-42cd-8d00-6693349bbd6d",
   "metadata": {},
   "outputs": [
    {
     "name": "stdout",
     "output_type": "stream",
     "text": [
      "[61 25 83 98  3 93 99 11 55 97 83 87 71 67 72 49 55 16  6 18]\n"
     ]
    }
   ],
   "source": [
    "# but what if we want to do it separetly where(condition , true => then , false => then)\n",
    "randomValues = np.random.randint(1,100,20);\n",
    "print(randomValues);\n"
   ]
  },
  {
   "cell_type": "code",
   "execution_count": 74,
   "id": "5d49b78a-19cb-4089-9fd5-bbccade4f0b0",
   "metadata": {},
   "outputs": [
    {
     "name": "stdout",
     "output_type": "stream",
     "text": [
      "[-1 -1 -1 98 -1 -1 -1 -1 -1 -1 -1 -1 -1 -1 72 -1 -1 16  6 18]\n"
     ]
    }
   ],
   "source": [
    "modifiedRandomArray  = np.where(randomValues % 2 == 1, -1 ,randomValues);\n",
    "print(modifiedRandomArray);"
   ]
  },
  {
   "cell_type": "markdown",
   "id": "543a694e-f454-45f8-ae29-61da388ef82d",
   "metadata": {},
   "source": [
    "# percentile\n",
    "## It tells what value ensure I am how much higher than the values"
   ]
  },
  {
   "cell_type": "code",
   "execution_count": 79,
   "id": "168b01a3-4efd-4944-90dc-e6279cd32485",
   "metadata": {},
   "outputs": [
    {
     "name": "stdout",
     "output_type": "stream",
     "text": [
      "[ 1 18 15 14 12  7 14 16 10  3]\n"
     ]
    }
   ],
   "source": [
    "randomValues = np.random.randint(1,20,10);\n",
    "print(randomValues);"
   ]
  },
  {
   "cell_type": "code",
   "execution_count": 85,
   "id": "35afd9e3-210e-4239-ae16-b412a43975ed",
   "metadata": {},
   "outputs": [],
   "source": [
    "a = np.sort(randomValues);"
   ]
  },
  {
   "cell_type": "code",
   "execution_count": 87,
   "id": "c7a86233-5b54-43d0-b0ea-4d03baa69254",
   "metadata": {},
   "outputs": [
    {
     "name": "stdout",
     "output_type": "stream",
     "text": [
      "[ 1  3  7 10 12 14 14 15 16 18]\n"
     ]
    }
   ],
   "source": [
    "print(a);"
   ]
  },
  {
   "cell_type": "code",
   "execution_count": 89,
   "id": "52eb7df6-e068-41e3-b655-9ba9ab595f65",
   "metadata": {},
   "outputs": [
    {
     "name": "stdout",
     "output_type": "stream",
     "text": [
      "7.75\n"
     ]
    }
   ],
   "source": [
    "print(np.percentile(a,25));"
   ]
  },
  {
   "cell_type": "code",
   "execution_count": null,
   "id": "681f4188-f8cc-48bf-a29e-21bd0942df64",
   "metadata": {},
   "outputs": [],
   "source": []
  }
 ],
 "metadata": {
  "kernelspec": {
   "display_name": "Python [conda env:base] *",
   "language": "python",
   "name": "conda-base-py"
  },
  "language_info": {
   "codemirror_mode": {
    "name": "ipython",
    "version": 3
   },
   "file_extension": ".py",
   "mimetype": "text/x-python",
   "name": "python",
   "nbconvert_exporter": "python",
   "pygments_lexer": "ipython3",
   "version": "3.12.7"
  }
 },
 "nbformat": 4,
 "nbformat_minor": 5
}

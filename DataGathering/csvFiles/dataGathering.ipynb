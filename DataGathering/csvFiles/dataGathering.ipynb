{
 "cells": [
  {
   "cell_type": "markdown",
   "id": "dc44da09-dc1a-4aff-95b2-49398bb2dc16",
   "metadata": {},
   "source": [
    "# importing the pandas"
   ]
  },
  {
   "cell_type": "code",
   "execution_count": 4,
   "id": "480e489d-b785-4256-914e-3ecb290d42ef",
   "metadata": {},
   "outputs": [],
   "source": [
    "import pandas as pd;"
   ]
  },
  {
   "cell_type": "markdown",
   "id": "faa11396-eafa-4247-af49-7f8eeb2f1799",
   "metadata": {},
   "source": [
    "# importing the csv file from local"
   ]
  },
  {
   "cell_type": "code",
   "execution_count": 6,
   "id": "296c22d9-9cb4-431c-acc4-4da4235244c4",
   "metadata": {},
   "outputs": [],
   "source": [
    "df = pd.read_csv('aug_train.csv');"
   ]
  },
  {
   "cell_type": "code",
   "execution_count": 12,
   "id": "f344430e-8de0-42e1-8a42-fa175f6febe0",
   "metadata": {},
   "outputs": [
    {
     "name": "stdout",
     "output_type": "stream",
     "text": [
      "   enrollee_id      city  city_development_index gender  \\\n",
      "0         8949  city_103                   0.920   Male   \n",
      "1        29725   city_40                   0.776   Male   \n",
      "2        11561   city_21                   0.624    NaN   \n",
      "3        33241  city_115                   0.789    NaN   \n",
      "4          666  city_162                   0.767   Male   \n",
      "\n",
      "       relevent_experience enrolled_university education_level  \\\n",
      "0  Has relevent experience       no_enrollment        Graduate   \n",
      "1   No relevent experience       no_enrollment        Graduate   \n",
      "2   No relevent experience    Full time course        Graduate   \n",
      "3   No relevent experience                 NaN        Graduate   \n",
      "4  Has relevent experience       no_enrollment         Masters   \n",
      "\n",
      "  major_discipline experience company_size    company_type last_new_job  \\\n",
      "0             STEM        >20          NaN             NaN            1   \n",
      "1             STEM         15        50-99         Pvt Ltd           >4   \n",
      "2             STEM          5          NaN             NaN        never   \n",
      "3  Business Degree         <1          NaN         Pvt Ltd        never   \n",
      "4             STEM        >20        50-99  Funded Startup            4   \n",
      "\n",
      "   training_hours  target  \n",
      "0              36     1.0  \n",
      "1              47     0.0  \n",
      "2              83     0.0  \n",
      "3              52     1.0  \n",
      "4               8     0.0  \n"
     ]
    }
   ],
   "source": [
    "print(df.head());"
   ]
  },
  {
   "cell_type": "code",
   "execution_count": 16,
   "id": "e8d94ac4-ce4b-4b7a-8819-07262a011303",
   "metadata": {},
   "outputs": [
    {
     "name": "stdout",
     "output_type": "stream",
     "text": [
      "2\n"
     ]
    }
   ],
   "source": [
    "print(df.ndim);"
   ]
  },
  {
   "cell_type": "code",
   "execution_count": 20,
   "id": "f7da2069-e05f-4e28-b795-4420ca7de3f4",
   "metadata": {},
   "outputs": [
    {
     "name": "stdout",
     "output_type": "stream",
     "text": [
      "(19158, 14)\n"
     ]
    }
   ],
   "source": [
    "print(df.shape);\n",
    "# this means it has 19158 rows and 14 columns"
   ]
  },
  {
   "cell_type": "markdown",
   "id": "ebb08ce5-240a-43c0-8ea0-4f81602d75a8",
   "metadata": {},
   "source": [
    "# reading csv file from any url Kind of the APi things"
   ]
  },
  {
   "cell_type": "code",
   "execution_count": 30,
   "id": "df7221c3-642f-4afb-b1e5-e7fe48bb6398",
   "metadata": {},
   "outputs": [],
   "source": [
    "import requests ; # it is like axios in the javascript"
   ]
  },
  {
   "cell_type": "code",
   "execution_count": 32,
   "id": "979aeee3-5ec7-4bce-87f9-492767b5805f",
   "metadata": {},
   "outputs": [],
   "source": [
    "from io import StringIO ;"
   ]
  },
  {
   "cell_type": "code",
   "execution_count": 40,
   "id": "f4ed8f67-c322-43a5-8863-7e4c9a5b07a2",
   "metadata": {},
   "outputs": [],
   "source": [
    "# the url on which we will adding the get requests ;\n",
    "url = \"https://raw.githubusercontent.com/cs109/2014_data/master/countries.csv\" ;"
   ]
  },
  {
   "cell_type": "code",
   "execution_count": 42,
   "id": "3278978e-5489-4d71-a290-d2d128ead6be",
   "metadata": {},
   "outputs": [],
   "source": [
    "# header have necessary data for calling a server \n",
    "headers = {\"User-Agent\": \"Mozilla/5.0 (Macintosh; Intel Mac OS X 10.14; rv:66.0) Gecko/20100101 Firefox/66.0\"}"
   ]
  },
  {
   "cell_type": "code",
   "execution_count": 77,
   "id": "f3ffbb3b-c499-44c5-a4f9-bbc5803c7ef0",
   "metadata": {},
   "outputs": [
    {
     "name": "stdout",
     "output_type": "stream",
     "text": [
      "<Response [200]>\n"
     ]
    }
   ],
   "source": [
    "# making a request on the url servers but data is basically in the unreadable form to make it readable we need to do converstion\n",
    "req = requests.get(url,headers = headers);\n",
    "print(req)  ;\n",
    "# we get response object which is inreadable "
   ]
  },
  {
   "cell_type": "code",
   "execution_count": 79,
   "id": "8810fe06-e402-41be-8189-9a5ef4cabb49",
   "metadata": {},
   "outputs": [],
   "source": [
    "# from the request we are taking out text \n",
    "data = StringIO(req.text); # while working with csv we need to keep in mind to do it text only"
   ]
  },
  {
   "cell_type": "code",
   "execution_count": 81,
   "id": "3a94d98d-21a3-4b0c-889d-dfdcee01220a",
   "metadata": {},
   "outputs": [
    {
     "name": "stdout",
     "output_type": "stream",
     "text": [
      "<_io.StringIO object at 0x0000019E9A2F0DC0>\n"
     ]
    }
   ],
   "source": [
    "print(data);"
   ]
  },
  {
   "cell_type": "code",
   "execution_count": 83,
   "id": "b8b40af7-6d72-49e6-9aea-07b9c150fa0f",
   "metadata": {},
   "outputs": [],
   "source": [
    "actualDataFromServer = pd.read_csv(data) ;"
   ]
  },
  {
   "cell_type": "code",
   "execution_count": 85,
   "id": "daace381-4f29-4e0a-9711-55e079f5d3e6",
   "metadata": {},
   "outputs": [
    {
     "name": "stdout",
     "output_type": "stream",
     "text": [
      "       Country         Region\n",
      "0      Algeria         AFRICA\n",
      "1       Angola         AFRICA\n",
      "2        Benin         AFRICA\n",
      "3     Botswana         AFRICA\n",
      "4      Burkina         AFRICA\n",
      "..         ...            ...\n",
      "189   Paraguay  SOUTH AMERICA\n",
      "190       Peru  SOUTH AMERICA\n",
      "191   Suriname  SOUTH AMERICA\n",
      "192    Uruguay  SOUTH AMERICA\n",
      "193  Venezuela  SOUTH AMERICA\n",
      "\n",
      "[194 rows x 2 columns]\n"
     ]
    }
   ],
   "source": [
    "print(actualDataFromServer);"
   ]
  },
  {
   "cell_type": "markdown",
   "id": "4976892d-5b26-4bf4-880a-95cdd8993f34",
   "metadata": {},
   "source": [
    "# sep parametres when we read csv by default it separates on the values of the comma , but with tab separated files we might end up getting wrong val so we need to use the separator\n"
   ]
  },
  {
   "cell_type": "code",
   "execution_count": 105,
   "id": "02b51415-ec57-40cf-9f32-770294f1556c",
   "metadata": {},
   "outputs": [],
   "source": [
    "tsvData = pd.read_csv('movie_titles_metadata.tsv',sep = '\\t',names = ['S No.','Movie','Release Year','Ratings','Votes','geners']); # here the \\t means separate the data on the basis of the tab so we will get the actual \n",
    "# data here But by deafault it takes the first row as the column so we have a names parametre where we can pass an array of the column name"
   ]
  },
  {
   "cell_type": "code",
   "execution_count": 107,
   "id": "7d98c4b1-a68e-4dfb-a997-9f6cbc2333c1",
   "metadata": {},
   "outputs": [
    {
     "name": "stdout",
     "output_type": "stream",
     "text": [
      "    S No.                       Movie Release Year  Ratings     Votes  \\\n",
      "0      m0  10 things i hate about you         1999      6.9   62847.0   \n",
      "1      m1  1492: conquest of paradise         1992      6.2   10421.0   \n",
      "2      m2                  15 minutes         2001      6.1   25854.0   \n",
      "3      m3       2001: a space odyssey         1968      8.4  163227.0   \n",
      "4      m4                     48 hrs.         1982      6.9   22289.0   \n",
      "..    ...                         ...          ...      ...       ...   \n",
      "612  m612                    watchmen         2009      7.8  135229.0   \n",
      "613  m613                         xxx         2002      5.6   53505.0   \n",
      "614  m614                       x-men         2000      7.4  122149.0   \n",
      "615  m615          young frankenstein         1974      8.0   57618.0   \n",
      "616  m616                   zulu dawn         1979      6.4    1911.0   \n",
      "\n",
      "                                                geners  \n",
      "0                                 ['comedy' 'romance']  \n",
      "1          ['adventure' 'biography' 'drama' 'history']  \n",
      "2                ['action' 'crime' 'drama' 'thriller']  \n",
      "3                     ['adventure' 'mystery' 'sci-fi']  \n",
      "4       ['action' 'comedy' 'crime' 'drama' 'thriller']  \n",
      "..                                                 ...  \n",
      "612  ['action' 'crime' 'fantasy' 'mystery' 'sci-fi'...  \n",
      "613                     ['action' 'adventure' 'crime']  \n",
      "614                                ['action' 'sci-fi']  \n",
      "615                                ['comedy' 'sci-fi']  \n",
      "616     ['action' 'adventure' 'drama' 'history' 'war']  \n",
      "\n",
      "[617 rows x 6 columns]\n"
     ]
    }
   ],
   "source": [
    "print(tsvData);"
   ]
  },
  {
   "cell_type": "markdown",
   "id": "48a66c26-ca38-4b22-985e-7a47c65d19f6",
   "metadata": {},
   "source": [
    "# index_col parameter if we a column to become the index instead of the default index then we can go with index_col the index_col that we have given will become the index"
   ]
  },
  {
   "cell_type": "code",
   "execution_count": 114,
   "id": "f06b7b73-34ef-426a-a665-aee5ec202577",
   "metadata": {},
   "outputs": [
    {
     "name": "stdout",
     "output_type": "stream",
     "text": [
      "                 city  city_development_index gender      relevent_experience  \\\n",
      "enrollee_id                                                                     \n",
      "8949         city_103                   0.920   Male  Has relevent experience   \n",
      "29725         city_40                   0.776   Male   No relevent experience   \n",
      "11561         city_21                   0.624    NaN   No relevent experience   \n",
      "33241        city_115                   0.789    NaN   No relevent experience   \n",
      "666          city_162                   0.767   Male  Has relevent experience   \n",
      "\n",
      "            enrolled_university education_level major_discipline experience  \\\n",
      "enrollee_id                                                                   \n",
      "8949              no_enrollment        Graduate             STEM        >20   \n",
      "29725             no_enrollment        Graduate             STEM         15   \n",
      "11561          Full time course        Graduate             STEM          5   \n",
      "33241                       NaN        Graduate  Business Degree         <1   \n",
      "666               no_enrollment         Masters             STEM        >20   \n",
      "\n",
      "            company_size    company_type last_new_job  training_hours  target  \n",
      "enrollee_id                                                                    \n",
      "8949                 NaN             NaN            1              36     1.0  \n",
      "29725              50-99         Pvt Ltd           >4              47     0.0  \n",
      "11561                NaN             NaN        never              83     0.0  \n",
      "33241                NaN         Pvt Ltd        never              52     1.0  \n",
      "666                50-99  Funded Startup            4               8     0.0  \n"
     ]
    }
   ],
   "source": [
    "\n",
    "df = pd.read_csv('aug_train.csv',index_col = 'enrollee_id');\n",
    "\n",
    "print(df.head());"
   ]
  },
  {
   "cell_type": "markdown",
   "id": "05bf034b-c1ef-4a27-b70d-f5d5e2e21a27",
   "metadata": {},
   "source": [
    "# header parameter if we have a columns named as the row we can simply do header = 1 \n",
    "## it tells us from where the actual row data starts"
   ]
  },
  {
   "cell_type": "code",
   "execution_count": 131,
   "id": "c2eddbbd-b7b1-4b80-94c9-80c932211cfe",
   "metadata": {},
   "outputs": [
    {
     "name": "stdout",
     "output_type": "stream",
     "text": [
      "   enrollee_id      city  city_development_index gender  \\\n",
      "0                                                         \n",
      "1        29725   city_40                   0.776   Male   \n",
      "2        11561   city_21                   0.624    NaN   \n",
      "3        33241  city_115                   0.789    NaN   \n",
      "4          666  city_162                   0.767   Male   \n",
      "\n",
      "       relevent_experience enrolled_university education_level  \\\n",
      "0                                                                \n",
      "1   No relevent experience       no_enrollment        Graduate   \n",
      "2   No relevent experience    Full time course        Graduate   \n",
      "3   No relevent experience                 NaN        Graduate   \n",
      "4  Has relevent experience       no_enrollment         Masters   \n",
      "\n",
      "  major_discipline experience company_size    company_type last_new_job  \\\n",
      "0                                                                         \n",
      "1             STEM         15        50-99         Pvt Ltd           >4   \n",
      "2             STEM          5          NaN             NaN        never   \n",
      "3  Business Degree         <1          NaN         Pvt Ltd        never   \n",
      "4             STEM        >20        50-99  Funded Startup            4   \n",
      "\n",
      "   training_hours  target  \n",
      "0                          \n",
      "1              47       0  \n",
      "2              83       0  \n",
      "3              52       1  \n",
      "4               8       0  \n"
     ]
    }
   ],
   "source": [
    "testDataFrame = pd.read_csv('test.csv',header=1, index_col = 0);\n",
    "print(testDataFrame);"
   ]
  },
  {
   "cell_type": "markdown",
   "id": "6c254df5-63b0-402f-91a6-6eb3ea284f06",
   "metadata": {},
   "source": [
    "# use_col while importing the data it might possible that all the data might not be required so we can do use cols"
   ]
  },
  {
   "cell_type": "code",
   "execution_count": 139,
   "id": "3fe034c4-b438-4a3a-89d7-e6917b236c3c",
   "metadata": {},
   "outputs": [
    {
     "name": "stdout",
     "output_type": "stream",
     "text": [
      "       enrollee_id gender education_level\n",
      "0             8949   Male        Graduate\n",
      "1            29725   Male        Graduate\n",
      "2            11561    NaN        Graduate\n",
      "3            33241    NaN        Graduate\n",
      "4              666   Male         Masters\n",
      "...            ...    ...             ...\n",
      "19153         7386   Male        Graduate\n",
      "19154        31398   Male        Graduate\n",
      "19155        24576   Male        Graduate\n",
      "19156         5756   Male     High School\n",
      "19157        23834    NaN  Primary School\n",
      "\n",
      "[19158 rows x 3 columns]\n"
     ]
    }
   ],
   "source": [
    "# use call params takes the list of the columns that we require\n",
    "useColDataFrame = pd.read_csv('aug_train.csv',usecols = ['enrollee_id','gender','education_level']); # so we will be having only this three data\n",
    "print(useColDataFrame);\n"
   ]
  },
  {
   "cell_type": "markdown",
   "id": "71a49085-facf-4d66-a4bc-0e6878f76637",
   "metadata": {},
   "source": [
    "# squeze param it is use to convert the data frame into a series"
   ]
  },
  {
   "cell_type": "code",
   "execution_count": 152,
   "id": "fee2e75b-316f-4f7b-9f02-68b97cddde24",
   "metadata": {},
   "outputs": [],
   "source": [
    "useSquezeData = pd.read_csv('aug_train.csv',usecols = ['gender'])['gender']; "
   ]
  },
  {
   "cell_type": "code",
   "execution_count": 154,
   "id": "9bf601fe-045c-4f64-a402-9ef8c1da98c3",
   "metadata": {},
   "outputs": [
    {
     "name": "stdout",
     "output_type": "stream",
     "text": [
      "0        Male\n",
      "1        Male\n",
      "2         NaN\n",
      "3         NaN\n",
      "4        Male\n",
      "         ... \n",
      "19153    Male\n",
      "19154    Male\n",
      "19155    Male\n",
      "19156    Male\n",
      "19157     NaN\n",
      "Name: gender, Length: 19158, dtype: object\n"
     ]
    }
   ],
   "source": [
    "print(useSquezeData);"
   ]
  },
  {
   "cell_type": "markdown",
   "id": "00b053ac-febc-447d-abc4-81f359b2867e",
   "metadata": {},
   "source": [
    "# skipping row"
   ]
  },
  {
   "cell_type": "code",
   "execution_count": 165,
   "id": "b28965dc-3c68-436d-afa6-b25e1d618769",
   "metadata": {},
   "outputs": [
    {
     "name": "stdout",
     "output_type": "stream",
     "text": [
      "        8949  city_103   0.92  Male  Has relevent experience  \\\n",
      "0      11561   city_21  0.624   NaN   No relevent experience   \n",
      "1      33241  city_115  0.789   NaN   No relevent experience   \n",
      "2        666  city_162  0.767  Male  Has relevent experience   \n",
      "3      21651  city_176  0.764   NaN  Has relevent experience   \n",
      "4      28806  city_160  0.920  Male  Has relevent experience   \n",
      "...      ...       ...    ...   ...                      ...   \n",
      "19151   7386  city_173  0.878  Male   No relevent experience   \n",
      "19152  31398  city_103  0.920  Male  Has relevent experience   \n",
      "19153  24576  city_103  0.920  Male  Has relevent experience   \n",
      "19154   5756   city_65  0.802  Male  Has relevent experience   \n",
      "19155  23834   city_67  0.855   NaN   No relevent experience   \n",
      "\n",
      "          no_enrollment        Graduate             STEM  >20 Unnamed: 9  \\\n",
      "0      Full time course        Graduate             STEM    5        NaN   \n",
      "1                   NaN        Graduate  Business Degree   <1        NaN   \n",
      "2         no_enrollment         Masters             STEM  >20      50-99   \n",
      "3      Part time course        Graduate             STEM   11        NaN   \n",
      "4         no_enrollment     High School              NaN    5      50-99   \n",
      "...                 ...             ...              ...  ...        ...   \n",
      "19151     no_enrollment        Graduate       Humanities   14        NaN   \n",
      "19152     no_enrollment        Graduate             STEM   14        NaN   \n",
      "19153     no_enrollment        Graduate             STEM  >20      50-99   \n",
      "19154     no_enrollment     High School              NaN   <1    500-999   \n",
      "19155     no_enrollment  Primary School              NaN    2        NaN   \n",
      "\n",
      "          Unnamed: 10      1   36  1.0  \n",
      "0                 NaN  never   83  0.0  \n",
      "1             Pvt Ltd  never   52  1.0  \n",
      "2      Funded Startup      4    8  0.0  \n",
      "3                 NaN      1   24  1.0  \n",
      "4      Funded Startup      1   24  0.0  \n",
      "...               ...    ...  ...  ...  \n",
      "19151             NaN      1   42  1.0  \n",
      "19152             NaN      4   52  1.0  \n",
      "19153         Pvt Ltd      4   44  0.0  \n",
      "19154         Pvt Ltd      2   97  0.0  \n",
      "19155             NaN      1  127  0.0  \n",
      "\n",
      "[19156 rows x 14 columns]\n"
     ]
    }
   ],
   "source": [
    "# if I am working with certain data and I want to skipp any row we can simply do\n",
    "useSkippData = pd.read_csv('aug_train.csv',skiprows = [0,2]) ;\n",
    "print(useSkippData);"
   ]
  },
  {
   "cell_type": "markdown",
   "id": "1019713f-f1bb-44db-bed7-ee2a22d2c391",
   "metadata": {},
   "source": [
    "# nrows it will give us only the necessary rows"
   ]
  },
  {
   "cell_type": "code",
   "execution_count": 168,
   "id": "0ea3b009-dce6-40d5-aab8-1459ebeed65a",
   "metadata": {},
   "outputs": [
    {
     "name": "stdout",
     "output_type": "stream",
     "text": [
      "    enrollee_id      city  city_development_index gender  \\\n",
      "0          8949  city_103                   0.920   Male   \n",
      "1         29725   city_40                   0.776   Male   \n",
      "2         11561   city_21                   0.624    NaN   \n",
      "3         33241  city_115                   0.789    NaN   \n",
      "4           666  city_162                   0.767   Male   \n",
      "..          ...       ...                     ...    ...   \n",
      "95        12081   city_65                   0.802   Male   \n",
      "96         7364  city_160                   0.920    NaN   \n",
      "97        11184   city_74                   0.579    NaN   \n",
      "98         7016   city_65                   0.802   Male   \n",
      "99         8695   city_11                   0.550   Male   \n",
      "\n",
      "        relevent_experience enrolled_university education_level  \\\n",
      "0   Has relevent experience       no_enrollment        Graduate   \n",
      "1    No relevent experience       no_enrollment        Graduate   \n",
      "2    No relevent experience    Full time course        Graduate   \n",
      "3    No relevent experience                 NaN        Graduate   \n",
      "4   Has relevent experience       no_enrollment         Masters   \n",
      "..                      ...                 ...             ...   \n",
      "95  Has relevent experience    Full time course        Graduate   \n",
      "96   No relevent experience    Full time course     High School   \n",
      "97   No relevent experience    Full time course        Graduate   \n",
      "98  Has relevent experience       no_enrollment        Graduate   \n",
      "99  Has relevent experience       no_enrollment        Graduate   \n",
      "\n",
      "   major_discipline experience company_size    company_type last_new_job  \\\n",
      "0              STEM        >20          NaN             NaN            1   \n",
      "1              STEM         15        50-99         Pvt Ltd           >4   \n",
      "2              STEM          5          NaN             NaN        never   \n",
      "3   Business Degree         <1          NaN         Pvt Ltd        never   \n",
      "4              STEM        >20        50-99  Funded Startup            4   \n",
      "..              ...        ...          ...             ...          ...   \n",
      "95             STEM          9        50-99         Pvt Ltd            1   \n",
      "96              NaN          2      100-500         Pvt Ltd            1   \n",
      "97             STEM          2      100-500         Pvt Ltd            1   \n",
      "98             STEM          6        50-99         Pvt Ltd            2   \n",
      "99             STEM          6        10/49         Pvt Ltd            2   \n",
      "\n",
      "    training_hours  target  \n",
      "0               36     1.0  \n",
      "1               47     0.0  \n",
      "2               83     0.0  \n",
      "3               52     1.0  \n",
      "4                8     0.0  \n",
      "..             ...     ...  \n",
      "95              33     0.0  \n",
      "96             142     0.0  \n",
      "97              34     0.0  \n",
      "98              14     1.0  \n",
      "99              27     1.0  \n",
      "\n",
      "[100 rows x 14 columns]\n"
     ]
    }
   ],
   "source": [
    "print(pd.read_csv('aug_train.csv',nrows = 100)); # it will give only first 100 rows"
   ]
  },
  {
   "cell_type": "markdown",
   "id": "63218138-41c6-4664-a54b-d721be5bf0b6",
   "metadata": {},
   "source": [
    "# encoding \n",
    "## some times the data set might not be encoded with ut-f for that we have two options either to go to the editors and convert it or give it the the utf format it has"
   ]
  },
  {
   "cell_type": "code",
   "execution_count": 181,
   "id": "93c13de3-9228-4b23-bdf1-87e232c5202a",
   "metadata": {},
   "outputs": [],
   "source": [
    "zomatoData = pd.read_csv('zomato.csv',encoding = 'latin-1');"
   ]
  },
  {
   "cell_type": "code",
   "execution_count": 183,
   "id": "bcd2094c-a9d2-482d-a194-cb5c46d61f8d",
   "metadata": {},
   "outputs": [
    {
     "name": "stdout",
     "output_type": "stream",
     "text": [
      "      Restaurant ID           Restaurant Name  Country Code              City  \\\n",
      "0           6317637          Le Petit Souffle           162       Makati City   \n",
      "1           6304287          Izakaya Kikufuji           162       Makati City   \n",
      "2           6300002    Heat - Edsa Shangri-La           162  Mandaluyong City   \n",
      "3           6318506                      Ooma           162  Mandaluyong City   \n",
      "4           6314302               Sambo Kojin           162  Mandaluyong City   \n",
      "...             ...                       ...           ...               ...   \n",
      "9546        5915730              NamlÛ± Gurme           208         ÛÁstanbul   \n",
      "9547        5908749             Ceviz AÛôacÛ±           208         ÛÁstanbul   \n",
      "9548        5915807                     Huqqa           208         ÛÁstanbul   \n",
      "9549        5916112              Aôôk Kahve           208         ÛÁstanbul   \n",
      "9550        5927402  Walter's Coffee Roastery           208         ÛÁstanbul   \n",
      "\n",
      "                                                Address  \\\n",
      "0     Third Floor, Century City Mall, Kalayaan Avenu...   \n",
      "1     Little Tokyo, 2277 Chino Roces Avenue, Legaspi...   \n",
      "2     Edsa Shangri-La, 1 Garden Way, Ortigas, Mandal...   \n",
      "3     Third Floor, Mega Fashion Hall, SM Megamall, O...   \n",
      "4     Third Floor, Mega Atrium, SM Megamall, Ortigas...   \n",
      "...                                                 ...   \n",
      "9546  Kemankeô Karamustafa Paôa Mahallesi, RÛ±htÛ±...   \n",
      "9547  Koôuyolu Mahallesi, Muhittin íìstí_ndaÛô Cadd...   \n",
      "9548  Kuruí_eôme Mahallesi, Muallim Naci Caddesi, N...   \n",
      "9549  Kuruí_eôme Mahallesi, Muallim Naci Caddesi, N...   \n",
      "9550  CafeaÛôa Mahallesi, BademaltÛ± Sokak, No 21/B,...   \n",
      "\n",
      "                                        Locality  \\\n",
      "0      Century City Mall, Poblacion, Makati City   \n",
      "1     Little Tokyo, Legaspi Village, Makati City   \n",
      "2     Edsa Shangri-La, Ortigas, Mandaluyong City   \n",
      "3         SM Megamall, Ortigas, Mandaluyong City   \n",
      "4         SM Megamall, Ortigas, Mandaluyong City   \n",
      "...                                          ...   \n",
      "9546                                    Karakí_y   \n",
      "9547                                   Koôuyolu   \n",
      "9548                                 Kuruí_eôme   \n",
      "9549                                 Kuruí_eôme   \n",
      "9550                                        Moda   \n",
      "\n",
      "                                       Locality Verbose   Longitude  \\\n",
      "0     Century City Mall, Poblacion, Makati City, Mak...  121.027535   \n",
      "1     Little Tokyo, Legaspi Village, Makati City, Ma...  121.014101   \n",
      "2     Edsa Shangri-La, Ortigas, Mandaluyong City, Ma...  121.056831   \n",
      "3     SM Megamall, Ortigas, Mandaluyong City, Mandal...  121.056475   \n",
      "4     SM Megamall, Ortigas, Mandaluyong City, Mandal...  121.057508   \n",
      "...                                                 ...         ...   \n",
      "9546                                Karakí_y, ÛÁstanbul   28.977392   \n",
      "9547                               Koôuyolu, ÛÁstanbul   29.041297   \n",
      "9548                             Kuruí_eôme, ÛÁstanbul   29.034640   \n",
      "9549                             Kuruí_eôme, ÛÁstanbul   29.036019   \n",
      "9550                                    Moda, ÛÁstanbul   29.026016   \n",
      "\n",
      "       Latitude                          Cuisines  ...          Currency  \\\n",
      "0     14.565443        French, Japanese, Desserts  ...  Botswana Pula(P)   \n",
      "1     14.553708                          Japanese  ...  Botswana Pula(P)   \n",
      "2     14.581404  Seafood, Asian, Filipino, Indian  ...  Botswana Pula(P)   \n",
      "3     14.585318                   Japanese, Sushi  ...  Botswana Pula(P)   \n",
      "4     14.584450                  Japanese, Korean  ...  Botswana Pula(P)   \n",
      "...         ...                               ...  ...               ...   \n",
      "9546  41.022793                           Turkish  ...  Turkish Lira(TL)   \n",
      "9547  41.009847   World Cuisine, Patisserie, Cafe  ...  Turkish Lira(TL)   \n",
      "9548  41.055817            Italian, World Cuisine  ...  Turkish Lira(TL)   \n",
      "9549  41.057979                   Restaurant Cafe  ...  Turkish Lira(TL)   \n",
      "9550  40.984776                              Cafe  ...  Turkish Lira(TL)   \n",
      "\n",
      "     Has Table booking Has Online delivery Is delivering now  \\\n",
      "0                  Yes                  No                No   \n",
      "1                  Yes                  No                No   \n",
      "2                  Yes                  No                No   \n",
      "3                   No                  No                No   \n",
      "4                  Yes                  No                No   \n",
      "...                ...                 ...               ...   \n",
      "9546                No                  No                No   \n",
      "9547                No                  No                No   \n",
      "9548                No                  No                No   \n",
      "9549                No                  No                No   \n",
      "9550                No                  No                No   \n",
      "\n",
      "     Switch to order menu Price range  Aggregate rating  Rating color  \\\n",
      "0                      No           3               4.8    Dark Green   \n",
      "1                      No           3               4.5    Dark Green   \n",
      "2                      No           4               4.4         Green   \n",
      "3                      No           4               4.9    Dark Green   \n",
      "4                      No           4               4.8    Dark Green   \n",
      "...                   ...         ...               ...           ...   \n",
      "9546                   No           3               4.1         Green   \n",
      "9547                   No           3               4.2         Green   \n",
      "9548                   No           4               3.7        Yellow   \n",
      "9549                   No           4               4.0         Green   \n",
      "9550                   No           2               4.0         Green   \n",
      "\n",
      "     Rating text Votes  \n",
      "0      Excellent   314  \n",
      "1      Excellent   591  \n",
      "2      Very Good   270  \n",
      "3      Excellent   365  \n",
      "4      Excellent   229  \n",
      "...          ...   ...  \n",
      "9546   Very Good   788  \n",
      "9547   Very Good  1034  \n",
      "9548        Good   661  \n",
      "9549   Very Good   901  \n",
      "9550   Very Good   591  \n",
      "\n",
      "[9551 rows x 21 columns]\n"
     ]
    }
   ],
   "source": [
    "print(zomatoData);"
   ]
  },
  {
   "cell_type": "markdown",
   "id": "100eb5ce-81cd-41e2-bcdd-0a132e550bf7",
   "metadata": {},
   "source": [
    "# skip bad lines\n",
    "## It might be possible that the data might normally contain 6 lines suddenly have 8 lines it might cause error so we need to skip the lines"
   ]
  },
  {
   "cell_type": "code",
   "execution_count": 190,
   "id": "e26cf8e8-fe71-47d1-8a9a-a1a9719fc0ca",
   "metadata": {},
   "outputs": [
    {
     "ename": "NameError",
     "evalue": "name 'false' is not defined",
     "output_type": "error",
     "traceback": [
      "\u001b[1;31m---------------------------------------------------------------------------\u001b[0m",
      "\u001b[1;31mNameError\u001b[0m                                 Traceback (most recent call last)",
      "Cell \u001b[1;32mIn[190], line 2\u001b[0m\n\u001b[0;32m      1\u001b[0m \u001b[38;5;66;03m# if we get parser error there might be possibilty that we will be getting parser error it might throw error\u001b[39;00m\n\u001b[1;32m----> 2\u001b[0m error_bad_lines \u001b[38;5;241m=\u001b[39m  false\n",
      "\u001b[1;31mNameError\u001b[0m: name 'false' is not defined"
     ]
    }
   ],
   "source": [
    "# if we get parser error there might be possibilty that we will be getting parser error it might throw error\n",
    "error_bad_lines =  false ;"
   ]
  },
  {
   "cell_type": "markdown",
   "id": "99bcb24c-10b7-4a87-bb9a-642a4d66855c",
   "metadata": {},
   "source": [
    "# dtpye param there might be possibility that for boolean we might have been taking a lot of data it might cause an error\n",
    "## so we can change it"
   ]
  },
  {
   "cell_type": "code",
   "execution_count": 204,
   "id": "1f73bbdf-4046-47de-b810-860bd5cab80f",
   "metadata": {},
   "outputs": [
    {
     "name": "stdout",
     "output_type": "stream",
     "text": [
      "       enrollee_id      city  city_development_index gender  \\\n",
      "0             8949  city_103                   0.920   Male   \n",
      "1            29725   city_40                   0.776   Male   \n",
      "2            11561   city_21                   0.624    NaN   \n",
      "3            33241  city_115                   0.789    NaN   \n",
      "4              666  city_162                   0.767   Male   \n",
      "...            ...       ...                     ...    ...   \n",
      "19153         7386  city_173                   0.878   Male   \n",
      "19154        31398  city_103                   0.920   Male   \n",
      "19155        24576  city_103                   0.920   Male   \n",
      "19156         5756   city_65                   0.802   Male   \n",
      "19157        23834   city_67                   0.855    NaN   \n",
      "\n",
      "           relevent_experience enrolled_university education_level  \\\n",
      "0      Has relevent experience       no_enrollment        Graduate   \n",
      "1       No relevent experience       no_enrollment        Graduate   \n",
      "2       No relevent experience    Full time course        Graduate   \n",
      "3       No relevent experience                 NaN        Graduate   \n",
      "4      Has relevent experience       no_enrollment         Masters   \n",
      "...                        ...                 ...             ...   \n",
      "19153   No relevent experience       no_enrollment        Graduate   \n",
      "19154  Has relevent experience       no_enrollment        Graduate   \n",
      "19155  Has relevent experience       no_enrollment        Graduate   \n",
      "19156  Has relevent experience       no_enrollment     High School   \n",
      "19157   No relevent experience       no_enrollment  Primary School   \n",
      "\n",
      "      major_discipline experience company_size    company_type last_new_job  \\\n",
      "0                 STEM        >20          NaN             NaN            1   \n",
      "1                 STEM         15        50-99         Pvt Ltd           >4   \n",
      "2                 STEM          5          NaN             NaN        never   \n",
      "3      Business Degree         <1          NaN         Pvt Ltd        never   \n",
      "4                 STEM        >20        50-99  Funded Startup            4   \n",
      "...                ...        ...          ...             ...          ...   \n",
      "19153       Humanities         14          NaN             NaN            1   \n",
      "19154             STEM         14          NaN             NaN            4   \n",
      "19155             STEM        >20        50-99         Pvt Ltd            4   \n",
      "19156              NaN         <1      500-999         Pvt Ltd            2   \n",
      "19157              NaN          2          NaN             NaN            1   \n",
      "\n",
      "       training_hours  target  \n",
      "0                  36       1  \n",
      "1                  47       0  \n",
      "2                  83       0  \n",
      "3                  52       1  \n",
      "4                   8       0  \n",
      "...               ...     ...  \n",
      "19153              42       1  \n",
      "19154              52       1  \n",
      "19155              44       0  \n",
      "19156              97       0  \n",
      "19157             127       0  \n",
      "\n",
      "[19158 rows x 14 columns]\n"
     ]
    }
   ],
   "source": [
    "augData = pd.read_csv('aug_train.csv',dtype = {'target':int  });\n",
    "print(augData);\n",
    "#here we have a column named target which have only values 0 and 1 and it is taking a float data type \n",
    "#we can store in boolean or integer* we need give a dictionary to target\n"
   ]
  },
  {
   "cell_type": "markdown",
   "id": "3d5dd55f-c15a-4809-8bc1-5c3a05a8f1d6",
   "metadata": {},
   "source": [
    "# handling dates \n",
    "## when we parse a csv file it dates gets parsed into integer and we cannot use the data / time functions on it"
   ]
  },
  {
   "cell_type": "code",
   "execution_count": 219,
   "id": "eefa6153-c993-4248-a114-366895d393ad",
   "metadata": {},
   "outputs": [
    {
     "name": "stdout",
     "output_type": "stream",
     "text": [
      "       id        city       date player_of_match  \\\n",
      "0  335982   Bangalore 2008-04-18     BB McCullum   \n",
      "1  335983  Chandigarh 2008-04-19      MEK Hussey   \n",
      "2  335984       Delhi 2008-04-19     MF Maharoof   \n",
      "3  335985      Mumbai 2008-04-20      MV Boucher   \n",
      "4  335986     Kolkata 2008-04-20       DJ Hussey   \n",
      "\n",
      "                                        venue  neutral_venue  \\\n",
      "0                       M Chinnaswamy Stadium              0   \n",
      "1  Punjab Cricket Association Stadium, Mohali              0   \n",
      "2                            Feroz Shah Kotla              0   \n",
      "3                            Wankhede Stadium              0   \n",
      "4                                Eden Gardens              0   \n",
      "\n",
      "                         team1                        team2  \\\n",
      "0  Royal Challengers Bangalore        Kolkata Knight Riders   \n",
      "1              Kings XI Punjab          Chennai Super Kings   \n",
      "2             Delhi Daredevils             Rajasthan Royals   \n",
      "3               Mumbai Indians  Royal Challengers Bangalore   \n",
      "4        Kolkata Knight Riders              Deccan Chargers   \n",
      "\n",
      "                   toss_winner toss_decision                       winner  \\\n",
      "0  Royal Challengers Bangalore         field        Kolkata Knight Riders   \n",
      "1          Chennai Super Kings           bat          Chennai Super Kings   \n",
      "2             Rajasthan Royals           bat             Delhi Daredevils   \n",
      "3               Mumbai Indians           bat  Royal Challengers Bangalore   \n",
      "4              Deccan Chargers           bat        Kolkata Knight Riders   \n",
      "\n",
      "    result  result_margin eliminator method    umpire1         umpire2  \n",
      "0     runs          140.0          N    NaN  Asad Rauf     RE Koertzen  \n",
      "1     runs           33.0          N    NaN  MR Benson      SL Shastri  \n",
      "2  wickets            9.0          N    NaN  Aleem Dar  GA Pratapkumar  \n",
      "3  wickets            5.0          N    NaN   SJ Davis       DJ Harper  \n",
      "4  wickets            5.0          N    NaN  BF Bowden     K Hariharan  \n"
     ]
    }
   ],
   "source": [
    "iplData = pd.read_csv('IPL Matches 2008-2020.csv',parse_dates = ['date']).head();\n",
    "#here we are parsing the dates so for that we have parse_date attributes and we need to pall list of items\n",
    "print(iplData);"
   ]
  },
  {
   "cell_type": "code",
   "execution_count": null,
   "id": "4cf99d44-edbf-4649-b9b7-7d7c201872f9",
   "metadata": {},
   "outputs": [],
   "source": []
  },
  {
   "cell_type": "markdown",
   "id": "8400ea83-db7b-4086-84cb-c03dc7f42b49",
   "metadata": {},
   "source": [
    "# covertors \n",
    "## it want to covert something like royal challengers banglore with RCB and SOON we can use covertors we need pass a dictionary of the convertors and on what basis it shoulb be coverted"
   ]
  },
  {
   "cell_type": "code",
   "execution_count": 235,
   "id": "69fa2bd5-d5d8-4eea-95d9-25aeb5ee42ec",
   "metadata": {},
   "outputs": [],
   "source": [
    "def getTeamAcronyms(teamName):\n",
    "    if teamName == 'Royal Challengers Bangalore':\n",
    "        return 'RCB'\n",
    "    elif teamName == 'Chennai Super Kings':\n",
    "        return 'CSK'\n",
    "    elif teamName == 'Rajasthan Royals':\n",
    "        return 'RR'\n",
    "    elif teamName == 'Mumbai Indians':\n",
    "        return 'MI' \n",
    "    elif teamName == 'Deccan Chargers':\n",
    "        return 'DC'\n",
    "    elif teamName == 'Kings XI Punjab':\n",
    "        return 'KXIP'\n",
    "    elif teamName == 'Delhi Daredevils':\n",
    "        return 'DC'\n",
    "    else :\n",
    "        return 'KKR' ;"
   ]
  },
  {
   "cell_type": "code",
   "execution_count": 239,
   "id": "053f7f95-fe7a-418a-a14c-45188407520e",
   "metadata": {},
   "outputs": [
    {
     "name": "stdout",
     "output_type": "stream",
     "text": [
      "DC\n"
     ]
    }
   ],
   "source": [
    "print(getTeamAcronyms('Deccan Chargers'));"
   ]
  },
  {
   "cell_type": "code",
   "execution_count": 249,
   "id": "834de8ec-6ebe-445d-a651-8acc4edb47df",
   "metadata": {},
   "outputs": [
    {
     "name": "stdout",
     "output_type": "stream",
     "text": [
      "          id        city        date player_of_match  \\\n",
      "0     335982   Bangalore  2008-04-18     BB McCullum   \n",
      "1     335983  Chandigarh  2008-04-19      MEK Hussey   \n",
      "2     335984       Delhi  2008-04-19     MF Maharoof   \n",
      "3     335985      Mumbai  2008-04-20      MV Boucher   \n",
      "4     335986     Kolkata  2008-04-20       DJ Hussey   \n",
      "..       ...         ...         ...             ...   \n",
      "811  1216547       Dubai  2020-09-28  AB de Villiers   \n",
      "812  1237177       Dubai  2020-11-05       JJ Bumrah   \n",
      "813  1237178   Abu Dhabi  2020-11-06   KS Williamson   \n",
      "814  1237180   Abu Dhabi  2020-11-08      MP Stoinis   \n",
      "815  1237181       Dubai  2020-11-10        TA Boult   \n",
      "\n",
      "                                          venue  neutral_venue team1 team2  \\\n",
      "0                         M Chinnaswamy Stadium              0   RCB   KKR   \n",
      "1    Punjab Cricket Association Stadium, Mohali              0  KXIP   CSK   \n",
      "2                              Feroz Shah Kotla              0    DC    RR   \n",
      "3                              Wankhede Stadium              0    MI   RCB   \n",
      "4                                  Eden Gardens              0   KKR    DC   \n",
      "..                                          ...            ...   ...   ...   \n",
      "811         Dubai International Cricket Stadium              0   RCB    MI   \n",
      "812         Dubai International Cricket Stadium              0    MI   KKR   \n",
      "813                        Sheikh Zayed Stadium              0   RCB   KKR   \n",
      "814                        Sheikh Zayed Stadium              0   KKR   KKR   \n",
      "815         Dubai International Cricket Stadium              0   KKR    MI   \n",
      "\n",
      "                     toss_winner toss_decision                       winner  \\\n",
      "0    Royal Challengers Bangalore         field        Kolkata Knight Riders   \n",
      "1            Chennai Super Kings           bat          Chennai Super Kings   \n",
      "2               Rajasthan Royals           bat             Delhi Daredevils   \n",
      "3                 Mumbai Indians           bat  Royal Challengers Bangalore   \n",
      "4                Deccan Chargers           bat        Kolkata Knight Riders   \n",
      "..                           ...           ...                          ...   \n",
      "811               Mumbai Indians         field  Royal Challengers Bangalore   \n",
      "812               Delhi Capitals         field               Mumbai Indians   \n",
      "813          Sunrisers Hyderabad         field          Sunrisers Hyderabad   \n",
      "814               Delhi Capitals           bat               Delhi Capitals   \n",
      "815               Delhi Capitals           bat               Mumbai Indians   \n",
      "\n",
      "      result  result_margin eliminator method      umpire1         umpire2  \n",
      "0       runs          140.0          N    NaN    Asad Rauf     RE Koertzen  \n",
      "1       runs           33.0          N    NaN    MR Benson      SL Shastri  \n",
      "2    wickets            9.0          N    NaN    Aleem Dar  GA Pratapkumar  \n",
      "3    wickets            5.0          N    NaN     SJ Davis       DJ Harper  \n",
      "4    wickets            5.0          N    NaN    BF Bowden     K Hariharan  \n",
      "..       ...            ...        ...    ...          ...             ...  \n",
      "811      tie            NaN          Y    NaN  Nitin Menon      PR Reiffel  \n",
      "812     runs           57.0          N    NaN  CB Gaffaney     Nitin Menon  \n",
      "813  wickets            6.0          N    NaN   PR Reiffel          S Ravi  \n",
      "814     runs           17.0          N    NaN   PR Reiffel          S Ravi  \n",
      "815  wickets            5.0          N    NaN  CB Gaffaney     Nitin Menon  \n",
      "\n",
      "[816 rows x 17 columns]\n"
     ]
    }
   ],
   "source": [
    "iplData = pd.read_csv('IPL Matches 2008-2020.csv',converters = {'team1':getTeamAcronyms,'team2':getTeamAcronyms});\n",
    "print(iplData);"
   ]
  },
  {
   "cell_type": "markdown",
   "id": "3ef0f5f4-1859-4712-ae62-1eaf3a9bb9a1",
   "metadata": {},
   "source": [
    "# NA values if we have certain empty data and we want to remove those columns we need to have na_value\n",
    "## we just need to pass a array to whom it convert na_values"
   ]
  },
  {
   "cell_type": "code",
   "execution_count": 256,
   "id": "dfbbb6d3-bb60-46f9-a57d-ce110542666f",
   "metadata": {},
   "outputs": [
    {
     "name": "stdout",
     "output_type": "stream",
     "text": [
      "       enrollee_id      city  city_development_index gender  \\\n",
      "0             8949  city_103                   0.920   Male   \n",
      "1            29725   city_40                   0.776   Male   \n",
      "2            11561   city_21                   0.624    NaN   \n",
      "3            33241  city_115                   0.789    NaN   \n",
      "4              666  city_162                   0.767   Male   \n",
      "...            ...       ...                     ...    ...   \n",
      "19153         7386  city_173                   0.878   Male   \n",
      "19154        31398  city_103                   0.920   Male   \n",
      "19155        24576  city_103                   0.920   Male   \n",
      "19156         5756   city_65                   0.802   Male   \n",
      "19157        23834   city_67                   0.855    NaN   \n",
      "\n",
      "           relevent_experience enrolled_university education_level  \\\n",
      "0      Has relevent experience       no_enrollment        Graduate   \n",
      "1       No relevent experience       no_enrollment        Graduate   \n",
      "2       No relevent experience    Full time course        Graduate   \n",
      "3       No relevent experience                 NaN        Graduate   \n",
      "4      Has relevent experience       no_enrollment         Masters   \n",
      "...                        ...                 ...             ...   \n",
      "19153   No relevent experience       no_enrollment        Graduate   \n",
      "19154  Has relevent experience       no_enrollment        Graduate   \n",
      "19155  Has relevent experience       no_enrollment        Graduate   \n",
      "19156  Has relevent experience       no_enrollment     High School   \n",
      "19157   No relevent experience       no_enrollment  Primary School   \n",
      "\n",
      "      major_discipline experience company_size    company_type last_new_job  \\\n",
      "0                 STEM        >20          NaN             NaN            1   \n",
      "1                 STEM         15        50-99         Pvt Ltd           >4   \n",
      "2                 STEM          5          NaN             NaN        never   \n",
      "3      Business Degree         <1          NaN         Pvt Ltd        never   \n",
      "4                 STEM        >20        50-99  Funded Startup            4   \n",
      "...                ...        ...          ...             ...          ...   \n",
      "19153       Humanities         14          NaN             NaN            1   \n",
      "19154             STEM         14          NaN             NaN            4   \n",
      "19155             STEM        >20        50-99         Pvt Ltd            4   \n",
      "19156              NaN         <1      500-999         Pvt Ltd            2   \n",
      "19157              NaN          2          NaN             NaN            1   \n",
      "\n",
      "       training_hours  target  \n",
      "0                  36     1.0  \n",
      "1                  47     0.0  \n",
      "2                  83     0.0  \n",
      "3                  52     1.0  \n",
      "4                   8     0.0  \n",
      "...               ...     ...  \n",
      "19153              42     1.0  \n",
      "19154              52     1.0  \n",
      "19155              44     0.0  \n",
      "19156              97     0.0  \n",
      "19157             127     0.0  \n",
      "\n",
      "[19158 rows x 14 columns]\n"
     ]
    }
   ],
   "source": [
    "augTrainData = pd.read_csv('aug_train.csv',na_values = ['Female']); \n",
    "print(augTrainData); # it will convert all the male values into NaN"
   ]
  },
  {
   "cell_type": "markdown",
   "id": "d67113ec-42b9-46de-bce4-7a267b99bad4",
   "metadata": {},
   "source": [
    "# Loading a huga data into chuncks\n",
    "## we will have very large data and we can break those data into chunks"
   ]
  },
  {
   "cell_type": "code",
   "execution_count": 263,
   "id": "8cb6ecb3-118b-4174-b2e8-b376fcc03ccf",
   "metadata": {},
   "outputs": [
    {
     "name": "stdout",
     "output_type": "stream",
     "text": [
      "(5000, 14)\n",
      "(5000, 14)\n",
      "(5000, 14)\n",
      "(4158, 14)\n"
     ]
    }
   ],
   "source": [
    "# it will take first 5000 data and so on\n",
    "dfs = pd.read_csv('aug_train.csv',chunksize = 5000) ; \n",
    "for chunks in dfs:\n",
    "    print(chunks.shape);"
   ]
  },
  {
   "cell_type": "code",
   "execution_count": null,
   "id": "17d9285f-129e-4f0d-9fbd-df5bcece16b9",
   "metadata": {},
   "outputs": [],
   "source": []
  }
 ],
 "metadata": {
  "kernelspec": {
   "display_name": "Python [conda env:base] *",
   "language": "python",
   "name": "conda-base-py"
  },
  "language_info": {
   "codemirror_mode": {
    "name": "ipython",
    "version": 3
   },
   "file_extension": ".py",
   "mimetype": "text/x-python",
   "name": "python",
   "nbconvert_exporter": "python",
   "pygments_lexer": "ipython3",
   "version": "3.12.7"
  }
 },
 "nbformat": 4,
 "nbformat_minor": 5
}
